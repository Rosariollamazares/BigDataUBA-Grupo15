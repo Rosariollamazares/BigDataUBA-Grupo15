{
 "cells": [
  {
   "cell_type": "markdown",
   "metadata": {
    "cell_id": "b232dceabb894c8c82b90d3e02f6b616",
    "deepnote_cell_type": "text-cell-h1",
    "formattedRanges": []
   },
   "source": [
    "# Parte 1: creacion de variables, histogramas, kernels y resumen de la base de datos final\r"
   ]
  },
  {
   "cell_type": "code",
   "execution_count": 148,
   "metadata": {
    "cell_id": "0d5013df56454ea49a456f7db38bd303",
    "deepnote_cell_type": "code",
    "deepnote_table_loading": false,
    "deepnote_table_state": {
     "cellFormattingRules": [],
     "columnDisplayNames": [],
     "columnOrder": [
      "CODUSU",
      "NRO_HOGAR",
      "COMPONENTE",
      "H15",
      "ANO4",
      "TRIMESTRE",
      "REGION",
      "MAS_500",
      "AGLOMERADO",
      "PONDERA",
      "CH03",
      "CH04",
      "CH06",
      "CH07",
      "CH08",
      "CH09",
      "CH10",
      "CH11",
      "CH12",
      "CH13",
      "CH14",
      "CH15",
      "CH15_COD",
      "CH16",
      "CH16_COD",
      "NIVEL_ED",
      "ESTADO",
      "CAT_OCUP",
      "CAT_INAC",
      "PP02C1",
      "PP02C2",
      "PP02C3",
      "PP02C4",
      "PP02C5",
      "PP02C6",
      "PP02C7",
      "PP02C8",
      "PP02E",
      "PP02H",
      "PP02I",
      "PP03C",
      "PP03D",
      "PP3E_TOT",
      "PP3F_TOT",
      "PP03G",
      "PP03H",
      "PP03I",
      "PP03J",
      "INTENSI",
      "PP04A",
      "PP04B_COD",
      "PP04B1",
      "PP04B2",
      "PP04B3_MES",
      "PP04B3_ANO",
      "PP04B3_DIA",
      "PP04C",
      "PP04C99",
      "PP04D_COD",
      "PP04G",
      "PP05B2_MES",
      "PP05B2_ANO",
      "PP05B2_DIA",
      "PP05C_1",
      "PP05C_2",
      "PP05C_3",
      "PP05E",
      "PP05F",
      "PP05H",
      "PP06A",
      "PP06C",
      "PP06D",
      "PP06E",
      "PP06H",
      "PP07A",
      "PP07C",
      "PP07D",
      "PP07E",
      "PP07F1",
      "PP07F2",
      "PP07F3",
      "PP07F4",
      "PP07F5",
      "PP07G1",
      "PP07G2",
      "PP07G3",
      "PP07G4",
      "PP07G_59",
      "PP07H",
      "PP07I",
      "PP07J",
      "PP07K",
      "PP08D1",
      "PP08D4",
      "PP08F1",
      "PP08F2",
      "PP08J1",
      "PP08J2",
      "PP08J3",
      "PP09A",
      "PP09A_ESP",
      "PP09B",
      "PP09C",
      "PP09C_ESP",
      "PP10A",
      "PP10C",
      "PP10D",
      "PP10E",
      "PP11A",
      "PP11B_COD",
      "PP11B1",
      "PP11B2_MES",
      "PP11B2_ANO",
      "PP11B2_DIA",
      "PP11C",
      "PP11C99",
      "PP11D_COD",
      "PP11G_ANO",
      "PP11G_MES",
      "PP11G_DIA",
      "PP11L",
      "PP11L1",
      "PP11M",
      "PP11N",
      "PP11O",
      "PP11P",
      "PP11Q",
      "PP11R",
      "PP11S",
      "PP11T",
      "P21",
      "DECOCUR",
      "IDECOCUR",
      "RDECOCUR",
      "GDECOCUR",
      "PDECOCUR",
      "ADECOCUR",
      "TOT_P12",
      "P47T",
      "DECINDR",
      "IDECINDR",
      "RDECINDR",
      "GDECINDR",
      "PDECINDR",
      "ADECINDR",
      "V2_M",
      "V3_M",
      "V4_M",
      "V5_M",
      "V8_M",
      "V9_M",
      "V10_M",
      "V11_M",
      "V12_M",
      "V18_M",
      "V19_AM",
      "V21_M",
      "T_VI",
      "ITF",
      "DECIFR",
      "IDECIFR",
      "RDECIFR",
      "GDECIFR",
      "PDECIFR",
      "ADECIFR",
      "IPCF",
      "DECCFR",
      "IDECCFR",
      "RDECCFR",
      "GDECCFR",
      "PDECCFR",
      "ADECCFR",
      "PJ1_1",
      "PJ2_1",
      "PJ3_1",
      "IDIMPP",
      "CH05",
      "IMPUTA",
      "PONDIIO",
      "PONDII",
      "PONDIH",
      "educ"
     ],
     "conditionalFilters": [],
     "filters": [],
     "hiddenColumnIds": [],
     "pageIndex": 0,
     "pageSize": 10,
     "sortBy": [],
     "wrappedTextColumnIds": []
    },
    "execution_context_id": "d8d32c87-2ede-4f8e-9b6b-fcdd748a4182",
    "execution_millis": 37337,
    "execution_start": 1746957138396,
    "source_hash": "28ddc3df"
   },
   "outputs": [
    {
     "data": {
      "application/vnd.deepnote.dataframe.v3+json": {
       "column_count": 181,
       "columns": [
        {
         "dtype": "object",
         "name": "CODUSU",
         "stats": {
          "categories": [
           {
            "count": 13,
            "name": "261490  "
           },
           {
            "count": 12,
            "name": "188805  "
           },
           {
            "count": 8766,
            "name": "3049 others"
           }
          ],
          "nan_count": 0,
          "unique_count": 3051
         }
        },
        {
         "dtype": "float64",
         "name": "NRO_HOGAR",
         "stats": {
          "histogram": [
           {
            "bin_end": 6,
            "bin_start": 1,
            "count": 8790
           },
           {
            "bin_end": 11,
            "bin_start": 6,
            "count": 0
           },
           {
            "bin_end": 16,
            "bin_start": 11,
            "count": 0
           },
           {
            "bin_end": 21,
            "bin_start": 16,
            "count": 0
           },
           {
            "bin_end": 26,
            "bin_start": 21,
            "count": 0
           },
           {
            "bin_end": 31,
            "bin_start": 26,
            "count": 0
           },
           {
            "bin_end": 36,
            "bin_start": 31,
            "count": 0
           },
           {
            "bin_end": 41,
            "bin_start": 36,
            "count": 0
           },
           {
            "bin_end": 46,
            "bin_start": 41,
            "count": 0
           },
           {
            "bin_end": 51,
            "bin_start": 46,
            "count": 1
           }
          ],
          "max": "51.0",
          "min": "1.0",
          "nan_count": 0,
          "unique_count": 5
         }
        },
        {
         "dtype": "object",
         "name": "COMPONENTE",
         "stats": {
          "categories": [
           {
            "count": 2109,
            "name": "1"
           },
           {
            "count": 1540,
            "name": "2"
           },
           {
            "count": 5142,
            "name": "25 others"
           }
          ],
          "nan_count": 0,
          "unique_count": 14
         }
        },
        {
         "dtype": "object",
         "name": "H15",
         "stats": {
          "categories": [
           {
            "count": 4879,
            "name": "1"
           },
           {
            "count": 2664,
            "name": "Sí"
           },
           {
            "count": 1248,
            "name": "3 others"
           }
          ],
          "nan_count": 0,
          "unique_count": 4
         }
        },
        {
         "dtype": "float64",
         "name": "ANO4",
         "stats": {
          "histogram": [
           {
            "bin_end": 2006,
            "bin_start": 2004,
            "count": 3264
           },
           {
            "bin_end": 2008,
            "bin_start": 2006,
            "count": 0
           },
           {
            "bin_end": 2010,
            "bin_start": 2008,
            "count": 0
           },
           {
            "bin_end": 2012,
            "bin_start": 2010,
            "count": 0
           },
           {
            "bin_end": 2014,
            "bin_start": 2012,
            "count": 0
           },
           {
            "bin_end": 2016,
            "bin_start": 2014,
            "count": 0
           },
           {
            "bin_end": 2018,
            "bin_start": 2016,
            "count": 0
           },
           {
            "bin_end": 2020,
            "bin_start": 2018,
            "count": 0
           },
           {
            "bin_end": 2022,
            "bin_start": 2020,
            "count": 0
           },
           {
            "bin_end": 2024,
            "bin_start": 2022,
            "count": 5527
           }
          ],
          "max": "2024.0",
          "min": "2004.0",
          "nan_count": 0,
          "unique_count": 2
         }
        },
        {
         "dtype": "object",
         "name": "TRIMESTRE",
         "stats": {
          "categories": [
           {
            "count": 5527,
            "name": "1"
           },
           {
            "count": 3264,
            "name": "1er. Trimestre"
           }
          ],
          "nan_count": 0,
          "unique_count": 2
         }
        },
        {
         "dtype": "object",
         "name": "REGION",
         "stats": {
          "categories": [
           {
            "count": 8791,
            "name": "Patagónica"
           }
          ],
          "nan_count": 0,
          "unique_count": 1
         }
        },
        {
         "dtype": "object",
         "name": "MAS_500",
         "stats": {
          "categories": [
           {
            "count": 8791,
            "name": "N"
           }
          ],
          "nan_count": 0,
          "unique_count": 1
         }
        },
        {
         "dtype": "object",
         "name": "AGLOMERADO",
         "stats": {
          "categories": [
           {
            "count": 1160,
            "name": "17"
           },
           {
            "count": 1011,
            "name": "93"
           },
           {
            "count": 6620,
            "name": "8 others"
           }
          ],
          "nan_count": 0,
          "unique_count": 10
         }
        },
        {
         "dtype": "float64",
         "name": "PONDERA",
         "stats": {
          "histogram": [
           {
            "bin_end": 114.5,
            "bin_start": 33,
            "count": 2364
           },
           {
            "bin_end": 196,
            "bin_start": 114.5,
            "count": 3100
           },
           {
            "bin_end": 277.5,
            "bin_start": 196,
            "count": 1697
           },
           {
            "bin_end": 359,
            "bin_start": 277.5,
            "count": 943
           },
           {
            "bin_end": 440.5,
            "bin_start": 359,
            "count": 341
           },
           {
            "bin_end": 522,
            "bin_start": 440.5,
            "count": 185
           },
           {
            "bin_end": 603.5,
            "bin_start": 522,
            "count": 80
           },
           {
            "bin_end": 685,
            "bin_start": 603.5,
            "count": 24
           },
           {
            "bin_end": 766.5,
            "bin_start": 685,
            "count": 20
           },
           {
            "bin_end": 848,
            "bin_start": 766.5,
            "count": 37
           }
          ],
          "max": "848.0",
          "min": "33.0",
          "nan_count": 0,
          "unique_count": 461
         }
        },
        {
         "dtype": "object",
         "name": "CH03",
         "stats": {
          "categories": [
           {
            "count": 2132,
            "name": "1"
           },
           {
            "count": 1937,
            "name": "3"
           },
           {
            "count": 4722,
            "name": "18 others"
           }
          ],
          "nan_count": 0,
          "unique_count": 20
         }
        },
        {
         "dtype": "object",
         "name": "CH04"
        },
        {
         "dtype": "object",
         "name": "CH06"
        },
        {
         "dtype": "object",
         "name": "CH07"
        },
        {
         "dtype": "object",
         "name": "CH08"
        },
        {
         "dtype": "object",
         "name": "CH09"
        },
        {
         "dtype": "object",
         "name": "CH10"
        },
        {
         "dtype": "object",
         "name": "CH11"
        },
        {
         "dtype": "object",
         "name": "CH12"
        },
        {
         "dtype": "object",
         "name": "CH13"
        },
        {
         "dtype": "float64",
         "name": "CH14"
        },
        {
         "dtype": "object",
         "name": "CH15"
        },
        {
         "dtype": "object",
         "name": "CH15_COD"
        },
        {
         "dtype": "object",
         "name": "CH16"
        },
        {
         "dtype": "object",
         "name": "CH16_COD"
        },
        {
         "dtype": "object",
         "name": "NIVEL_ED"
        },
        {
         "dtype": "object",
         "name": "ESTADO"
        },
        {
         "dtype": "object",
         "name": "CAT_OCUP"
        },
        {
         "dtype": "object",
         "name": "CAT_INAC"
        },
        {
         "dtype": "object",
         "name": "PP02C1"
        },
        {
         "dtype": "object",
         "name": "PP02C2"
        },
        {
         "dtype": "object",
         "name": "PP02C3"
        },
        {
         "dtype": "object",
         "name": "PP02C4"
        },
        {
         "dtype": "object",
         "name": "PP02C5"
        },
        {
         "dtype": "object",
         "name": "PP02C6"
        },
        {
         "dtype": "object",
         "name": "PP02C7"
        },
        {
         "dtype": "object",
         "name": "PP02C8"
        },
        {
         "dtype": "object",
         "name": "PP02E"
        },
        {
         "dtype": "object",
         "name": "PP02H"
        },
        {
         "dtype": "object",
         "name": "PP02I"
        },
        {
         "dtype": "object",
         "name": "PP03C"
        },
        {
         "dtype": "float64",
         "name": "PP03D"
        },
        {
         "dtype": "float64",
         "name": "PP3E_TOT"
        },
        {
         "dtype": "float64",
         "name": "PP3F_TOT"
        },
        {
         "dtype": "object",
         "name": "PP03G"
        },
        {
         "dtype": "object",
         "name": "PP03H"
        },
        {
         "dtype": "object",
         "name": "PP03I"
        },
        {
         "dtype": "object",
         "name": "PP03J"
        },
        {
         "dtype": "object",
         "name": "INTENSI"
        },
        {
         "dtype": "object",
         "name": "PP04A"
        },
        {
         "dtype": "object",
         "name": "PP04B_COD"
        },
        {
         "dtype": "object",
         "name": "PP04B1"
        },
        {
         "dtype": "float64",
         "name": "PP04B2"
        },
        {
         "dtype": "float64",
         "name": "PP04B3_MES"
        },
        {
         "dtype": "float64",
         "name": "PP04B3_ANO"
        },
        {
         "dtype": "float64",
         "name": "PP04B3_DIA"
        },
        {
         "dtype": "object",
         "name": "PP04C"
        },
        {
         "dtype": "object",
         "name": "PP04C99"
        },
        {
         "dtype": "object",
         "name": "PP04D_COD"
        },
        {
         "dtype": "object",
         "name": "PP04G"
        },
        {
         "dtype": "float64",
         "name": "PP05B2_MES"
        },
        {
         "dtype": "float64",
         "name": "PP05B2_ANO"
        },
        {
         "dtype": "float64",
         "name": "PP05B2_DIA"
        },
        {
         "dtype": "object",
         "name": "PP05C_1"
        },
        {
         "dtype": "object",
         "name": "PP05C_2"
        },
        {
         "dtype": "object",
         "name": "PP05C_3"
        },
        {
         "dtype": "object",
         "name": "PP05E"
        },
        {
         "dtype": "object",
         "name": "PP05F"
        },
        {
         "dtype": "object",
         "name": "PP05H"
        },
        {
         "dtype": "object",
         "name": "PP06A"
        },
        {
         "dtype": "float64",
         "name": "PP06C"
        },
        {
         "dtype": "float64",
         "name": "PP06D"
        },
        {
         "dtype": "object",
         "name": "PP06E"
        },
        {
         "dtype": "object",
         "name": "PP06H"
        },
        {
         "dtype": "object",
         "name": "PP07A"
        },
        {
         "dtype": "object",
         "name": "PP07C"
        },
        {
         "dtype": "object",
         "name": "PP07D"
        },
        {
         "dtype": "object",
         "name": "PP07E"
        },
        {
         "dtype": "object",
         "name": "PP07F1"
        },
        {
         "dtype": "object",
         "name": "PP07F2"
        },
        {
         "dtype": "object",
         "name": "PP07F3"
        },
        {
         "dtype": "object",
         "name": "PP07F4"
        },
        {
         "dtype": "object",
         "name": "PP07F5"
        },
        {
         "dtype": "object",
         "name": "PP07G1"
        },
        {
         "dtype": "object",
         "name": "PP07G2"
        },
        {
         "dtype": "object",
         "name": "PP07G3"
        },
        {
         "dtype": "object",
         "name": "PP07G4"
        },
        {
         "dtype": "object",
         "name": "PP07G_59"
        },
        {
         "dtype": "object",
         "name": "PP07H"
        },
        {
         "dtype": "object",
         "name": "PP07I"
        },
        {
         "dtype": "object",
         "name": "PP07J"
        },
        {
         "dtype": "object",
         "name": "PP07K"
        },
        {
         "dtype": "float64",
         "name": "PP08D1"
        },
        {
         "dtype": "float64",
         "name": "PP08D4"
        },
        {
         "dtype": "float64",
         "name": "PP08F1"
        },
        {
         "dtype": "float64",
         "name": "PP08F2"
        },
        {
         "dtype": "float64",
         "name": "PP08J1"
        },
        {
         "dtype": "float64",
         "name": "PP08J2"
        },
        {
         "dtype": "float64",
         "name": "PP08J3"
        },
        {
         "dtype": "object",
         "name": "PP09A"
        },
        {
         "dtype": "object",
         "name": "PP09A_ESP"
        },
        {
         "dtype": "object",
         "name": "PP09B"
        },
        {
         "dtype": "object",
         "name": "PP09C"
        },
        {
         "dtype": "object",
         "name": "PP09C_ESP"
        },
        {
         "dtype": "object",
         "name": "PP10A"
        },
        {
         "dtype": "object",
         "name": "PP10C"
        },
        {
         "dtype": "object",
         "name": "PP10D"
        },
        {
         "dtype": "object",
         "name": "PP10E"
        },
        {
         "dtype": "object",
         "name": "PP11A"
        },
        {
         "dtype": "object",
         "name": "PP11B_COD"
        },
        {
         "dtype": "object",
         "name": "PP11B1"
        },
        {
         "dtype": "float64",
         "name": "PP11B2_MES"
        },
        {
         "dtype": "float64",
         "name": "PP11B2_ANO"
        },
        {
         "dtype": "float64",
         "name": "PP11B2_DIA"
        },
        {
         "dtype": "object",
         "name": "PP11C"
        },
        {
         "dtype": "object",
         "name": "PP11C99"
        },
        {
         "dtype": "object",
         "name": "PP11D_COD"
        },
        {
         "dtype": "float64",
         "name": "PP11G_ANO"
        },
        {
         "dtype": "float64",
         "name": "PP11G_MES"
        },
        {
         "dtype": "float64",
         "name": "PP11G_DIA"
        },
        {
         "dtype": "object",
         "name": "PP11L"
        },
        {
         "dtype": "object",
         "name": "PP11L1"
        },
        {
         "dtype": "object",
         "name": "PP11M"
        },
        {
         "dtype": "object",
         "name": "PP11N"
        },
        {
         "dtype": "object",
         "name": "PP11O"
        },
        {
         "dtype": "object",
         "name": "PP11P"
        },
        {
         "dtype": "object",
         "name": "PP11Q"
        },
        {
         "dtype": "object",
         "name": "PP11R"
        },
        {
         "dtype": "object",
         "name": "PP11S"
        },
        {
         "dtype": "object",
         "name": "PP11T"
        },
        {
         "dtype": "float64",
         "name": "P21"
        },
        {
         "dtype": "object",
         "name": "DECOCUR"
        },
        {
         "dtype": "object",
         "name": "IDECOCUR"
        },
        {
         "dtype": "object",
         "name": "RDECOCUR"
        },
        {
         "dtype": "object",
         "name": "GDECOCUR"
        },
        {
         "dtype": "object",
         "name": "PDECOCUR"
        },
        {
         "dtype": "object",
         "name": "ADECOCUR"
        },
        {
         "dtype": "float64",
         "name": "TOT_P12"
        },
        {
         "dtype": "float64",
         "name": "P47T"
        },
        {
         "dtype": "object",
         "name": "DECINDR"
        },
        {
         "dtype": "object",
         "name": "IDECINDR"
        },
        {
         "dtype": "object",
         "name": "RDECINDR"
        },
        {
         "dtype": "object",
         "name": "GDECINDR"
        },
        {
         "dtype": "object",
         "name": "PDECINDR"
        },
        {
         "dtype": "object",
         "name": "ADECINDR"
        },
        {
         "dtype": "float64",
         "name": "V2_M"
        },
        {
         "dtype": "float64",
         "name": "V3_M"
        },
        {
         "dtype": "float64",
         "name": "V4_M"
        },
        {
         "dtype": "float64",
         "name": "V5_M"
        },
        {
         "dtype": "float64",
         "name": "V8_M"
        },
        {
         "dtype": "float64",
         "name": "V9_M"
        },
        {
         "dtype": "float64",
         "name": "V10_M"
        },
        {
         "dtype": "float64",
         "name": "V11_M"
        },
        {
         "dtype": "float64",
         "name": "V12_M"
        },
        {
         "dtype": "float64",
         "name": "V18_M"
        },
        {
         "dtype": "float64",
         "name": "V19_AM"
        },
        {
         "dtype": "float64",
         "name": "V21_M"
        },
        {
         "dtype": "float64",
         "name": "T_VI"
        },
        {
         "dtype": "float64",
         "name": "ITF"
        },
        {
         "dtype": "object",
         "name": "DECIFR"
        },
        {
         "dtype": "object",
         "name": "IDECIFR"
        },
        {
         "dtype": "object",
         "name": "RDECIFR"
        },
        {
         "dtype": "object",
         "name": "GDECIFR"
        },
        {
         "dtype": "object",
         "name": "PDECIFR"
        },
        {
         "dtype": "object",
         "name": "ADECIFR"
        },
        {
         "dtype": "float64",
         "name": "IPCF"
        },
        {
         "dtype": "object",
         "name": "DECCFR"
        },
        {
         "dtype": "object",
         "name": "IDECCFR"
        },
        {
         "dtype": "object",
         "name": "RDECCFR"
        },
        {
         "dtype": "object",
         "name": "GDECCFR"
        },
        {
         "dtype": "object",
         "name": "PDECCFR"
        },
        {
         "dtype": "object",
         "name": "ADECCFR"
        },
        {
         "dtype": "category",
         "name": "PJ1_1"
        },
        {
         "dtype": "category",
         "name": "PJ2_1"
        },
        {
         "dtype": "category",
         "name": "PJ3_1"
        },
        {
         "dtype": "object",
         "name": "IDIMPP"
        },
        {
         "dtype": "object",
         "name": "CH05"
        },
        {
         "dtype": "float64",
         "name": "IMPUTA"
        },
        {
         "dtype": "float64",
         "name": "PONDIIO"
        },
        {
         "dtype": "float64",
         "name": "PONDII"
        },
        {
         "dtype": "float64",
         "name": "PONDIH"
        },
        {
         "dtype": "int64",
         "name": "_deepnote_index_column"
        }
       ],
       "row_count": 8791,
       "rows": [
        {
         "ADECCFR": "09",
         "ADECIFR": "04",
         "ADECINDR": "07",
         "ADECOCUR": "07",
         "AGLOMERADO": "Comodoro Rivadavia - Rada Tilly",
         "ANO4": 2004,
         "CAT_INAC": "0.0",
         "CAT_OCUP": "Cuenta propia",
         "CH03": "Jefe",
         "CH04": "Varón",
         "CH05": "nan",
         "CH06": "34.0",
         "CH07": "Separado o divorciado",
         "CH08": "No paga ni le descuentan",
         "CH09": "Sí",
         "CH10": "No asiste, pero asistió",
         "CH11": "0.0",
         "CH12": "Secundario",
         "CH13": "No",
         "CH14": 1,
         "CH15": "En esta localidad",
         "CH15_COD": "   ",
         "CH16": "En esta localidad",
         "CH16_COD": "   ",
         "CODUSU": "125122  ",
         "COMPONENTE": "1.0",
         "DECCFR": "10",
         "DECIFR": "07",
         "DECINDR": "09",
         "DECOCUR": "09",
         "ESTADO": "Ocupado",
         "GDECCFR": "  ",
         "GDECIFR": "  ",
         "GDECINDR": "  ",
         "GDECOCUR": "  ",
         "H15": "Sí",
         "IDECCFR": "10",
         "IDECIFR": "07",
         "IDECINDR": "09",
         "IDECOCUR": "09",
         "IDIMPP": "00000",
         "IMPUTA": "nan",
         "INTENSI": "Ocupación plena",
         "IPCF": 1000,
         "ITF": 1000,
         "MAS_500": "N",
         "NIVEL_ED": "Secundaria Incompleta",
         "NRO_HOGAR": 1,
         "P21": 1000,
         "P47T": 1000,
         "PDECCFR": "10",
         "PDECIFR": "07",
         "PDECINDR": "09",
         "PDECOCUR": "09",
         "PJ1_1": "0.0",
         "PJ2_1": "0.0",
         "PJ3_1": "0.0",
         "PONDERA": 150,
         "PONDIH": "nan",
         "PONDII": "nan",
         "PONDIIO": "nan",
         "PP02C1": "0.0",
         "PP02C2": "0.0",
         "PP02C3": "0.0",
         "PP02C4": "0.0",
         "PP02C5": "0.0",
         "PP02C6": "0.0",
         "PP02C7": "0.0",
         "PP02C8": "0.0",
         "PP02E": "0.0",
         "PP02H": "0.0",
         "PP02I": "0.0",
         "PP03C": "...un sólo empleo/ocupación/actividad?",
         "PP03D": 0,
         "PP03G": "Sí",
         "PP03H": "...podía trabajarlas esa semana?",
         "PP03I": "No",
         "PP03J": "No",
         "PP04A": "...privada?",
         "PP04B1": "2.0",
         "PP04B2": 0,
         "PP04B3_ANO": 0,
         "PP04B3_DIA": 0,
         "PP04B3_MES": 0,
         "PP04B_COD": "4500",
         "PP04C": "1 persona",
         "PP04C99": "0.0",
         "PP04D_COD": "72113",
         "PP04G": "En el domicilio/local de los clientes",
         "PP05B2_ANO": 0,
         "PP05B2_DIA": 0,
         "PP05B2_MES": 0,
         "PP05C_1": "Propio (del negocio)",
         "PP05C_2": "Prestado/alquilado",
         "PP05C_3": "Propio (del negocio)",
         "PP05E": "No",
         "PP05F": "Distintos clientes? (incluye público en general)",
         "PP05H": "Más de 5 años",
         "PP06A": "No",
         "PP06C": 1000,
         "PP06D": 0,
         "PP06E": "0.0",
         "PP06H": "0.0",
         "PP07A": "0.0",
         "PP07C": "0.0",
         "PP07D": "0.0",
         "PP07E": "0.0",
         "PP07F1": "0.0",
         "PP07F2": "0.0",
         "PP07F3": "0.0",
         "PP07F4": "0.0",
         "PP07F5": "0.0",
         "PP07G1": "0.0",
         "PP07G2": "0.0",
         "PP07G3": "0.0",
         "PP07G4": "0.0",
         "PP07G_59": "0.0",
         "PP07H": "0.0",
         "PP07I": "0.0",
         "PP07J": "0.0",
         "PP07K": "0.0",
         "PP08D1": 0,
         "PP08D4": 0,
         "PP08F1": 0,
         "PP08F2": 0,
         "PP08J1": 0,
         "PP08J2": 0,
         "PP08J3": 0,
         "PP09A": "0.0",
         "PP09A_ESP": "                                                                                          ",
         "PP09B": "0.0",
         "PP09C": "0.0",
         "PP09C_ESP": "                                                                                          ",
         "PP10A": "0.0",
         "PP10C": "0.0",
         "PP10D": "0.0",
         "PP10E": "0.0",
         "PP11A": "0.0",
         "PP11B1": "0.0",
         "PP11B2_ANO": 0,
         "PP11B2_DIA": 0,
         "PP11B2_MES": 0,
         "PP11B_COD": "    ",
         "PP11C": "0.0",
         "PP11C99": "0.0",
         "PP11D_COD": "     ",
         "PP11G_ANO": 0,
         "PP11G_DIA": 0,
         "PP11G_MES": 0,
         "PP11L": "0.0",
         "PP11L1": "0.0",
         "PP11M": "0.0",
         "PP11N": "0.0",
         "PP11O": "0.0",
         "PP11P": "0.0",
         "PP11Q": "0.0",
         "PP11R": "0.0",
         "PP11S": "0.0",
         "PP11T": "0.0",
         "PP3E_TOT": 36,
         "PP3F_TOT": 0,
         "RDECCFR": "09",
         "RDECIFR": "05",
         "RDECINDR": "07",
         "RDECOCUR": "08",
         "REGION": "Patagónica",
         "TOT_P12": 0,
         "TRIMESTRE": "1er. Trimestre",
         "T_VI": 0,
         "V10_M": 0,
         "V11_M": 0,
         "V12_M": 0,
         "V18_M": 0,
         "V19_AM": 0,
         "V21_M": 0,
         "V2_M": 0,
         "V3_M": 0,
         "V4_M": 0,
         "V5_M": 0,
         "V8_M": 0,
         "V9_M": 0,
         "_deepnote_index_column": 42025
        },
        {
         "ADECCFR": "07",
         "ADECIFR": "05",
         "ADECINDR": "07",
         "ADECOCUR": "08",
         "AGLOMERADO": "Comodoro Rivadavia - Rada Tilly",
         "ANO4": 2004,
         "CAT_INAC": "0.0",
         "CAT_OCUP": "Cuenta propia",
         "CH03": "Jefe",
         "CH04": "Varón",
         "CH05": "nan",
         "CH06": "62.0",
         "CH07": "Casado",
         "CH08": "No paga ni le descuentan",
         "CH09": "Sí",
         "CH10": "No asiste, pero asistió",
         "CH11": "0.0",
         "CH12": "Primario",
         "CH13": "Sí",
         "CH14": "nan",
         "CH15": "En un país limítrofe",
         "CH15_COD": "208",
         "CH16": "En esta localidad",
         "CH16_COD": "   ",
         "CODUSU": "125969  ",
         "COMPONENTE": "1.0",
         "DECCFR": "09",
         "DECIFR": "07",
         "DECINDR": "09",
         "DECOCUR": "09",
         "ESTADO": "Ocupado",
         "GDECCFR": "  ",
         "GDECIFR": "  ",
         "GDECINDR": "  ",
         "GDECOCUR": "  ",
         "H15": "Sí",
         "IDECCFR": "09",
         "IDECIFR": "08",
         "IDECINDR": "09",
         "IDECOCUR": "10",
         "IDIMPP": "00000",
         "IMPUTA": "nan",
         "INTENSI": "Ocupado que no trabajó en la semana",
         "IPCF": 600,
         "ITF": 1200,
         "MAS_500": "N",
         "NIVEL_ED": "Primaria Completa",
         "NRO_HOGAR": 1,
         "P21": 1200,
         "P47T": 1200,
         "PDECCFR": "09",
         "PDECIFR": "08",
         "PDECINDR": "10",
         "PDECOCUR": "10",
         "PJ1_1": "0.0",
         "PJ2_1": "0.0",
         "PJ3_1": "0.0",
         "PONDERA": 120,
         "PONDIH": "nan",
         "PONDII": "nan",
         "PONDIIO": "nan",
         "PP02C1": "0.0",
         "PP02C2": "0.0",
         "PP02C3": "0.0",
         "PP02C4": "0.0",
         "PP02C5": "0.0",
         "PP02C6": "0.0",
         "PP02C7": "0.0",
         "PP02C8": "0.0",
         "PP02E": "0.0",
         "PP02H": "0.0",
         "PP02I": "0.0",
         "PP03C": "0.0",
         "PP03D": 0,
         "PP03G": "No",
         "PP03H": "0.0",
         "PP03I": "No",
         "PP03J": "No",
         "PP04A": "...privada?",
         "PP04B1": "2.0",
         "PP04B2": 0,
         "PP04B3_ANO": 0,
         "PP04B3_DIA": 0,
         "PP04B3_MES": 0,
         "PP04B_COD": "4500",
         "PP04C": "1 persona",
         "PP04C99": "0.0",
         "PP04D_COD": "72113",
         "PP04G": "En un local/oficina/establecimiento/negocio/taller/chacra/fi",
         "PP05B2_ANO": 0,
         "PP05B2_DIA": 0,
         "PP05B2_MES": 0,
         "PP05C_1": "Propio (del negocio)",
         "PP05C_2": "Prestado/alquilado",
         "PP05C_3": "Propio (del negocio)",
         "PP05E": "Sí",
         "PP05F": "Distintos clientes? (incluye público en general)",
         "PP05H": "Más de 5 años",
         "PP06A": "No",
         "PP06C": 1200,
         "PP06D": 0,
         "PP06E": "0.0",
         "PP06H": "0.0",
         "PP07A": "0.0",
         "PP07C": "0.0",
         "PP07D": "0.0",
         "PP07E": "0.0",
         "PP07F1": "0.0",
         "PP07F2": "0.0",
         "PP07F3": "0.0",
         "PP07F4": "0.0",
         "PP07F5": "0.0",
         "PP07G1": "0.0",
         "PP07G2": "0.0",
         "PP07G3": "0.0",
         "PP07G4": "0.0",
         "PP07G_59": "0.0",
         "PP07H": "0.0",
         "PP07I": "0.0",
         "PP07J": "0.0",
         "PP07K": "0.0",
         "PP08D1": 0,
         "PP08D4": 0,
         "PP08F1": 0,
         "PP08F2": 0,
         "PP08J1": 0,
         "PP08J2": 0,
         "PP08J3": 0,
         "PP09A": "0.0",
         "PP09A_ESP": "                                                                                          ",
         "PP09B": "0.0",
         "PP09C": "0.0",
         "PP09C_ESP": "                                                                                          ",
         "PP10A": "0.0",
         "PP10C": "0.0",
         "PP10D": "0.0",
         "PP10E": "0.0",
         "PP11A": "0.0",
         "PP11B1": "0.0",
         "PP11B2_ANO": 0,
         "PP11B2_DIA": 0,
         "PP11B2_MES": 0,
         "PP11B_COD": "    ",
         "PP11C": "0.0",
         "PP11C99": "0.0",
         "PP11D_COD": "     ",
         "PP11G_ANO": 0,
         "PP11G_DIA": 0,
         "PP11G_MES": 0,
         "PP11L": "0.0",
         "PP11L1": "0.0",
         "PP11M": "0.0",
         "PP11N": "0.0",
         "PP11O": "0.0",
         "PP11P": "0.0",
         "PP11Q": "0.0",
         "PP11R": "0.0",
         "PP11S": "0.0",
         "PP11T": "0.0",
         "PP3E_TOT": 0,
         "PP3F_TOT": 0,
         "RDECCFR": "08",
         "RDECIFR": "06",
         "RDECINDR": "08",
         "RDECOCUR": "08",
         "REGION": "Patagónica",
         "TOT_P12": 0,
         "TRIMESTRE": "1er. Trimestre",
         "T_VI": 0,
         "V10_M": 0,
         "V11_M": 0,
         "V12_M": 0,
         "V18_M": 0,
         "V19_AM": 0,
         "V21_M": 0,
         "V2_M": 0,
         "V3_M": 0,
         "V4_M": 0,
         "V5_M": 0,
         "V8_M": 0,
         "V9_M": 0,
         "_deepnote_index_column": 42026
        },
        {
         "ADECCFR": "07",
         "ADECIFR": "05",
         "ADECINDR": "00",
         "ADECOCUR": "  ",
         "AGLOMERADO": "Comodoro Rivadavia - Rada Tilly",
         "ANO4": 2004,
         "CAT_INAC": "Ama de casa",
         "CAT_OCUP": "0.0",
         "CH03": "Cónyuge/Pareja",
         "CH04": "Mujer",
         "CH05": "nan",
         "CH06": "58.0",
         "CH07": "Casado",
         "CH08": "No paga ni le descuentan",
         "CH09": "Sí",
         "CH10": "No asiste, pero asistió",
         "CH11": "0.0",
         "CH12": "Primario",
         "CH13": "Sí",
         "CH14": "nan",
         "CH15": "En un país limítrofe",
         "CH15_COD": "208",
         "CH16": "En esta localidad",
         "CH16_COD": "   ",
         "CODUSU": "125969  ",
         "COMPONENTE": "2.0",
         "DECCFR": "09",
         "DECIFR": "07",
         "DECINDR": "00",
         "DECOCUR": "  ",
         "ESTADO": "Inactivo",
         "GDECCFR": "  ",
         "GDECIFR": "  ",
         "GDECINDR": "  ",
         "GDECOCUR": "  ",
         "H15": "Sí",
         "IDECCFR": "09",
         "IDECIFR": "08",
         "IDECINDR": "00",
         "IDECOCUR": "  ",
         "IDIMPP": "00000",
         "IMPUTA": "nan",
         "INTENSI": "0.0",
         "IPCF": 600,
         "ITF": 1200,
         "MAS_500": "N",
         "NIVEL_ED": "Primaria Completa",
         "NRO_HOGAR": 1,
         "P21": 0,
         "P47T": 0,
         "PDECCFR": "09",
         "PDECIFR": "08",
         "PDECINDR": "00",
         "PDECOCUR": "  ",
         "PJ1_1": "0.0",
         "PJ2_1": "0.0",
         "PJ3_1": "0.0",
         "PONDERA": 120,
         "PONDIH": "nan",
         "PONDII": "nan",
         "PONDIIO": "nan",
         "PP02C1": "0.0",
         "PP02C2": "0.0",
         "PP02C3": "0.0",
         "PP02C4": "0.0",
         "PP02C5": "0.0",
         "PP02C6": "0.0",
         "PP02C7": "0.0",
         "PP02C8": "0.0",
         "PP02E": "0.0",
         "PP02H": "No",
         "PP02I": "No",
         "PP03C": "0.0",
         "PP03D": 0,
         "PP03G": "0.0",
         "PP03H": "0.0",
         "PP03I": "0.0",
         "PP03J": "0.0",
         "PP04A": "0.0",
         "PP04B1": "0.0",
         "PP04B2": 0,
         "PP04B3_ANO": 0,
         "PP04B3_DIA": 0,
         "PP04B3_MES": 0,
         "PP04B_COD": "    ",
         "PP04C": "0.0",
         "PP04C99": "0.0",
         "PP04D_COD": "     ",
         "PP04G": "0.0",
         "PP05B2_ANO": 0,
         "PP05B2_DIA": 0,
         "PP05B2_MES": 0,
         "PP05C_1": "0.0",
         "PP05C_2": "0.0",
         "PP05C_3": "0.0",
         "PP05E": "0.0",
         "PP05F": "0.0",
         "PP05H": "0.0",
         "PP06A": "0.0",
         "PP06C": 0,
         "PP06D": 0,
         "PP06E": "0.0",
         "PP06H": "0.0",
         "PP07A": "0.0",
         "PP07C": "0.0",
         "PP07D": "0.0",
         "PP07E": "0.0",
         "PP07F1": "0.0",
         "PP07F2": "0.0",
         "PP07F3": "0.0",
         "PP07F4": "0.0",
         "PP07F5": "0.0",
         "PP07G1": "0.0",
         "PP07G2": "0.0",
         "PP07G3": "0.0",
         "PP07G4": "0.0",
         "PP07G_59": "0.0",
         "PP07H": "0.0",
         "PP07I": "0.0",
         "PP07J": "0.0",
         "PP07K": "0.0",
         "PP08D1": 0,
         "PP08D4": 0,
         "PP08F1": 0,
         "PP08F2": 0,
         "PP08J1": 0,
         "PP08J2": 0,
         "PP08J3": 0,
         "PP09A": "0.0",
         "PP09A_ESP": "                                                                                          ",
         "PP09B": "0.0",
         "PP09C": "0.0",
         "PP09C_ESP": "                                                                                          ",
         "PP10A": "0.0",
         "PP10C": "0.0",
         "PP10D": "0.0",
         "PP10E": "0.0",
         "PP11A": "0.0",
         "PP11B1": "0.0",
         "PP11B2_ANO": 0,
         "PP11B2_DIA": 0,
         "PP11B2_MES": 0,
         "PP11B_COD": "    ",
         "PP11C": "0.0",
         "PP11C99": "0.0",
         "PP11D_COD": "     ",
         "PP11G_ANO": 0,
         "PP11G_DIA": 0,
         "PP11G_MES": 0,
         "PP11L": "0.0",
         "PP11L1": "0.0",
         "PP11M": "0.0",
         "PP11N": "0.0",
         "PP11O": "0.0",
         "PP11P": "0.0",
         "PP11Q": "0.0",
         "PP11R": "0.0",
         "PP11S": "0.0",
         "PP11T": "0.0",
         "PP3E_TOT": 0,
         "PP3F_TOT": 0,
         "RDECCFR": "08",
         "RDECIFR": "06",
         "RDECINDR": "00",
         "RDECOCUR": "  ",
         "REGION": "Patagónica",
         "TOT_P12": 0,
         "TRIMESTRE": "1er. Trimestre",
         "T_VI": 0,
         "V10_M": 0,
         "V11_M": 0,
         "V12_M": 0,
         "V18_M": 0,
         "V19_AM": 0,
         "V21_M": 0,
         "V2_M": 0,
         "V3_M": 0,
         "V4_M": 0,
         "V5_M": 0,
         "V8_M": 0,
         "V9_M": 0,
         "_deepnote_index_column": 42027
        },
        {
         "ADECCFR": "04",
         "ADECIFR": "06",
         "ADECINDR": "08",
         "ADECOCUR": "08",
         "AGLOMERADO": "Comodoro Rivadavia - Rada Tilly",
         "ANO4": 2004,
         "CAT_INAC": "0.0",
         "CAT_OCUP": "Cuenta propia",
         "CH03": "Jefe",
         "CH04": "Varón",
         "CH05": "nan",
         "CH06": "38.0",
         "CH07": "Casado",
         "CH08": "No paga ni le descuentan",
         "CH09": "Sí",
         "CH10": "No asiste, pero asistió",
         "CH11": "0.0",
         "CH12": "Secundario",
         "CH13": "No",
         "CH14": 3,
         "CH15": "En un país limítrofe",
         "CH15_COD": "208",
         "CH16": "En esta localidad",
         "CH16_COD": "   ",
         "CODUSU": "126757  ",
         "COMPONENTE": "1.0",
         "DECCFR": "06",
         "DECIFR": "08",
         "DECINDR": "09",
         "DECOCUR": "09",
         "ESTADO": "Ocupado",
         "GDECCFR": "  ",
         "GDECIFR": "  ",
         "GDECINDR": "  ",
         "GDECOCUR": "  ",
         "H15": "Sí",
         "IDECCFR": "06",
         "IDECIFR": "08",
         "IDECINDR": "10",
         "IDECOCUR": "10",
         "IDIMPP": "00000",
         "IMPUTA": "nan",
         "INTENSI": "Sobreocupación horaria",
         "IPCF": 280,
         "ITF": 1400,
         "MAS_500": "N",
         "NIVEL_ED": "Secundaria Incompleta",
         "NRO_HOGAR": 1,
         "P21": 1200,
         "P47T": 1400,
         "PDECCFR": "07",
         "PDECIFR": "09",
         "PDECINDR": "10",
         "PDECOCUR": "10",
         "PJ1_1": "0.0",
         "PJ2_1": "0.0",
         "PJ3_1": "0.0",
         "PONDERA": 223,
         "PONDIH": "nan",
         "PONDII": "nan",
         "PONDIIO": "nan",
         "PP02C1": "0.0",
         "PP02C2": "0.0",
         "PP02C3": "0.0",
         "PP02C4": "0.0",
         "PP02C5": "0.0",
         "PP02C6": "0.0",
         "PP02C7": "0.0",
         "PP02C8": "0.0",
         "PP02E": "0.0",
         "PP02H": "0.0",
         "PP02I": "0.0",
         "PP03C": "...un sólo empleo/ocupación/actividad?",
         "PP03D": 0,
         "PP03G": "No",
         "PP03H": "0.0",
         "PP03I": "No",
         "PP03J": "No",
         "PP04A": "...privada?",
         "PP04B1": "2.0",
         "PP04B2": 0,
         "PP04B3_ANO": 0,
         "PP04B3_DIA": 0,
         "PP04B3_MES": 0,
         "PP04B_COD": "4500",
         "PP04C": "1 persona",
         "PP04C99": "0.0",
         "PP04D_COD": "72112",
         "PP04G": "En el domicilio/local de los clientes",
         "PP05B2_ANO": 0,
         "PP05B2_DIA": 0,
         "PP05B2_MES": 0,
         "PP05C_1": "Propio (del negocio)",
         "PP05C_2": "Prestado/alquilado",
         "PP05C_3": "Propio (del negocio)",
         "PP05E": "No",
         "PP05F": "Distintos clientes? (incluye público en general)",
         "PP05H": "Más de 5 años",
         "PP06A": "No",
         "PP06C": 1200,
         "PP06D": 0,
         "PP06E": "0.0",
         "PP06H": "0.0",
         "PP07A": "0.0",
         "PP07C": "0.0",
         "PP07D": "0.0",
         "PP07E": "0.0",
         "PP07F1": "0.0",
         "PP07F2": "0.0",
         "PP07F3": "0.0",
         "PP07F4": "0.0",
         "PP07F5": "0.0",
         "PP07G1": "0.0",
         "PP07G2": "0.0",
         "PP07G3": "0.0",
         "PP07G4": "0.0",
         "PP07G_59": "0.0",
         "PP07H": "0.0",
         "PP07I": "0.0",
         "PP07J": "0.0",
         "PP07K": "0.0",
         "PP08D1": 0,
         "PP08D4": 0,
         "PP08F1": 0,
         "PP08F2": 0,
         "PP08J1": 0,
         "PP08J2": 0,
         "PP08J3": 0,
         "PP09A": "0.0",
         "PP09A_ESP": "                                                                                          ",
         "PP09B": "0.0",
         "PP09C": "0.0",
         "PP09C_ESP": "                                                                                          ",
         "PP10A": "0.0",
         "PP10C": "0.0",
         "PP10D": "0.0",
         "PP10E": "0.0",
         "PP11A": "0.0",
         "PP11B1": "0.0",
         "PP11B2_ANO": 0,
         "PP11B2_DIA": 0,
         "PP11B2_MES": 0,
         "PP11B_COD": "    ",
         "PP11C": "0.0",
         "PP11C99": "0.0",
         "PP11D_COD": "     ",
         "PP11G_ANO": 0,
         "PP11G_DIA": 0,
         "PP11G_MES": 0,
         "PP11L": "0.0",
         "PP11L1": "0.0",
         "PP11M": "0.0",
         "PP11N": "0.0",
         "PP11O": "0.0",
         "PP11P": "0.0",
         "PP11Q": "0.0",
         "PP11R": "0.0",
         "PP11S": "0.0",
         "PP11T": "0.0",
         "PP3E_TOT": 48,
         "PP3F_TOT": 0,
         "RDECCFR": "05",
         "RDECIFR": "07",
         "RDECINDR": "08",
         "RDECOCUR": "08",
         "REGION": "Patagónica",
         "TOT_P12": 0,
         "TRIMESTRE": "1er. Trimestre",
         "T_VI": 200,
         "V10_M": 0,
         "V11_M": 0,
         "V12_M": 0,
         "V18_M": 0,
         "V19_AM": 0,
         "V21_M": 0,
         "V2_M": 0,
         "V3_M": 0,
         "V4_M": 0,
         "V5_M": 0,
         "V8_M": 200,
         "V9_M": 0,
         "_deepnote_index_column": 42028
        },
        {
         "ADECCFR": "04",
         "ADECIFR": "06",
         "ADECINDR": "00",
         "ADECOCUR": "  ",
         "AGLOMERADO": "Comodoro Rivadavia - Rada Tilly",
         "ANO4": 2004,
         "CAT_INAC": "Ama de casa",
         "CAT_OCUP": "0.0",
         "CH03": "Cónyuge/Pareja",
         "CH04": "Mujer",
         "CH05": "nan",
         "CH06": "35.0",
         "CH07": "Casado",
         "CH08": "No paga ni le descuentan",
         "CH09": "Sí",
         "CH10": "No asiste, pero asistió",
         "CH11": "0.0",
         "CH12": "Secundario",
         "CH13": "No",
         "CH14": 2,
         "CH15": "En un país limítrofe",
         "CH15_COD": "208",
         "CH16": "En esta localidad",
         "CH16_COD": "   ",
         "CODUSU": "126757  ",
         "COMPONENTE": "2.0",
         "DECCFR": "06",
         "DECIFR": "08",
         "DECINDR": "00",
         "DECOCUR": "  ",
         "ESTADO": "Inactivo",
         "GDECCFR": "  ",
         "GDECIFR": "  ",
         "GDECINDR": "  ",
         "GDECOCUR": "  ",
         "H15": "Sí",
         "IDECCFR": "06",
         "IDECIFR": "08",
         "IDECINDR": "00",
         "IDECOCUR": "  ",
         "IDIMPP": "00000",
         "IMPUTA": "nan",
         "INTENSI": "0.0",
         "IPCF": 280,
         "ITF": 1400,
         "MAS_500": "N",
         "NIVEL_ED": "Secundaria Incompleta",
         "NRO_HOGAR": 1,
         "P21": 0,
         "P47T": 0,
         "PDECCFR": "07",
         "PDECIFR": "09",
         "PDECINDR": "00",
         "PDECOCUR": "  ",
         "PJ1_1": "0.0",
         "PJ2_1": "0.0",
         "PJ3_1": "0.0",
         "PONDERA": 223,
         "PONDIH": "nan",
         "PONDII": "nan",
         "PONDIIO": "nan",
         "PP02C1": "0.0",
         "PP02C2": "0.0",
         "PP02C3": "0.0",
         "PP02C4": "0.0",
         "PP02C5": "0.0",
         "PP02C6": "0.0",
         "PP02C7": "0.0",
         "PP02C8": "0.0",
         "PP02E": "0.0",
         "PP02H": "No",
         "PP02I": "No",
         "PP03C": "0.0",
         "PP03D": 0,
         "PP03G": "0.0",
         "PP03H": "0.0",
         "PP03I": "0.0",
         "PP03J": "0.0",
         "PP04A": "0.0",
         "PP04B1": "0.0",
         "PP04B2": 0,
         "PP04B3_ANO": 0,
         "PP04B3_DIA": 0,
         "PP04B3_MES": 0,
         "PP04B_COD": "    ",
         "PP04C": "0.0",
         "PP04C99": "0.0",
         "PP04D_COD": "     ",
         "PP04G": "0.0",
         "PP05B2_ANO": 0,
         "PP05B2_DIA": 0,
         "PP05B2_MES": 0,
         "PP05C_1": "0.0",
         "PP05C_2": "0.0",
         "PP05C_3": "0.0",
         "PP05E": "0.0",
         "PP05F": "0.0",
         "PP05H": "0.0",
         "PP06A": "0.0",
         "PP06C": 0,
         "PP06D": 0,
         "PP06E": "0.0",
         "PP06H": "0.0",
         "PP07A": "0.0",
         "PP07C": "0.0",
         "PP07D": "0.0",
         "PP07E": "0.0",
         "PP07F1": "0.0",
         "PP07F2": "0.0",
         "PP07F3": "0.0",
         "PP07F4": "0.0",
         "PP07F5": "0.0",
         "PP07G1": "0.0",
         "PP07G2": "0.0",
         "PP07G3": "0.0",
         "PP07G4": "0.0",
         "PP07G_59": "0.0",
         "PP07H": "0.0",
         "PP07I": "0.0",
         "PP07J": "0.0",
         "PP07K": "0.0",
         "PP08D1": 0,
         "PP08D4": 0,
         "PP08F1": 0,
         "PP08F2": 0,
         "PP08J1": 0,
         "PP08J2": 0,
         "PP08J3": 0,
         "PP09A": "0.0",
         "PP09A_ESP": "                                                                                          ",
         "PP09B": "0.0",
         "PP09C": "0.0",
         "PP09C_ESP": "                                                                                          ",
         "PP10A": "0.0",
         "PP10C": "0.0",
         "PP10D": "0.0",
         "PP10E": "0.0",
         "PP11A": "0.0",
         "PP11B1": "0.0",
         "PP11B2_ANO": 0,
         "PP11B2_DIA": 0,
         "PP11B2_MES": 0,
         "PP11B_COD": "    ",
         "PP11C": "0.0",
         "PP11C99": "0.0",
         "PP11D_COD": "     ",
         "PP11G_ANO": 0,
         "PP11G_DIA": 0,
         "PP11G_MES": 0,
         "PP11L": "0.0",
         "PP11L1": "0.0",
         "PP11M": "0.0",
         "PP11N": "0.0",
         "PP11O": "0.0",
         "PP11P": "0.0",
         "PP11Q": "0.0",
         "PP11R": "0.0",
         "PP11S": "0.0",
         "PP11T": "0.0",
         "PP3E_TOT": 0,
         "PP3F_TOT": 0,
         "RDECCFR": "05",
         "RDECIFR": "07",
         "RDECINDR": "00",
         "RDECOCUR": "  ",
         "REGION": "Patagónica",
         "TOT_P12": 0,
         "TRIMESTRE": "1er. Trimestre",
         "T_VI": 0,
         "V10_M": 0,
         "V11_M": 0,
         "V12_M": 0,
         "V18_M": 0,
         "V19_AM": 0,
         "V21_M": 0,
         "V2_M": 0,
         "V3_M": 0,
         "V4_M": 0,
         "V5_M": 0,
         "V8_M": 0,
         "V9_M": 0,
         "_deepnote_index_column": 42029
        },
        {
         "ADECCFR": "04",
         "ADECIFR": "06",
         "ADECINDR": "00",
         "ADECOCUR": "  ",
         "AGLOMERADO": "Comodoro Rivadavia - Rada Tilly",
         "ANO4": 2004,
         "CAT_INAC": "Estudiante",
         "CAT_OCUP": "0.0",
         "CH03": "Hijo/Hijastro",
         "CH04": "Varón",
         "CH05": "nan",
         "CH06": "16.0",
         "CH07": "Soltero",
         "CH08": "No paga ni le descuentan",
         "CH09": "Sí",
         "CH10": "Sí, asiste",
         "CH11": "Público",
         "CH12": "Polimodal",
         "CH13": "No",
         "CH14": 1,
         "CH15": "En un país limítrofe",
         "CH15_COD": "208",
         "CH16": "En esta localidad",
         "CH16_COD": "   ",
         "CODUSU": "126757  ",
         "COMPONENTE": "3.0",
         "DECCFR": "06",
         "DECIFR": "08",
         "DECINDR": "00",
         "DECOCUR": "  ",
         "ESTADO": "Inactivo",
         "GDECCFR": "  ",
         "GDECIFR": "  ",
         "GDECINDR": "  ",
         "GDECOCUR": "  ",
         "H15": "Sí",
         "IDECCFR": "06",
         "IDECIFR": "08",
         "IDECINDR": "00",
         "IDECOCUR": "  ",
         "IDIMPP": "00000",
         "IMPUTA": "nan",
         "INTENSI": "0.0",
         "IPCF": 280,
         "ITF": 1400,
         "MAS_500": "N",
         "NIVEL_ED": "Secundaria Incompleta",
         "NRO_HOGAR": 1,
         "P21": 0,
         "P47T": 0,
         "PDECCFR": "07",
         "PDECIFR": "09",
         "PDECINDR": "00",
         "PDECOCUR": "  ",
         "PJ1_1": "0.0",
         "PJ2_1": "0.0",
         "PJ3_1": "0.0",
         "PONDERA": 223,
         "PONDIH": "nan",
         "PONDII": "nan",
         "PONDIIO": "nan",
         "PP02C1": "0.0",
         "PP02C2": "0.0",
         "PP02C3": "0.0",
         "PP02C4": "0.0",
         "PP02C5": "0.0",
         "PP02C6": "0.0",
         "PP02C7": "0.0",
         "PP02C8": "0.0",
         "PP02E": "0.0",
         "PP02H": "No",
         "PP02I": "No",
         "PP03C": "0.0",
         "PP03D": 0,
         "PP03G": "0.0",
         "PP03H": "0.0",
         "PP03I": "0.0",
         "PP03J": "0.0",
         "PP04A": "0.0",
         "PP04B1": "0.0",
         "PP04B2": 0,
         "PP04B3_ANO": 0,
         "PP04B3_DIA": 0,
         "PP04B3_MES": 0,
         "PP04B_COD": "    ",
         "PP04C": "0.0",
         "PP04C99": "0.0",
         "PP04D_COD": "     ",
         "PP04G": "0.0",
         "PP05B2_ANO": 0,
         "PP05B2_DIA": 0,
         "PP05B2_MES": 0,
         "PP05C_1": "0.0",
         "PP05C_2": "0.0",
         "PP05C_3": "0.0",
         "PP05E": "0.0",
         "PP05F": "0.0",
         "PP05H": "0.0",
         "PP06A": "0.0",
         "PP06C": 0,
         "PP06D": 0,
         "PP06E": "0.0",
         "PP06H": "0.0",
         "PP07A": "0.0",
         "PP07C": "0.0",
         "PP07D": "0.0",
         "PP07E": "0.0",
         "PP07F1": "0.0",
         "PP07F2": "0.0",
         "PP07F3": "0.0",
         "PP07F4": "0.0",
         "PP07F5": "0.0",
         "PP07G1": "0.0",
         "PP07G2": "0.0",
         "PP07G3": "0.0",
         "PP07G4": "0.0",
         "PP07G_59": "0.0",
         "PP07H": "0.0",
         "PP07I": "0.0",
         "PP07J": "0.0",
         "PP07K": "0.0",
         "PP08D1": 0,
         "PP08D4": 0,
         "PP08F1": 0,
         "PP08F2": 0,
         "PP08J1": 0,
         "PP08J2": 0,
         "PP08J3": 0,
         "PP09A": "0.0",
         "PP09A_ESP": "                                                                                          ",
         "PP09B": "0.0",
         "PP09C": "0.0",
         "PP09C_ESP": "                                                                                          ",
         "PP10A": "0.0",
         "PP10C": "0.0",
         "PP10D": "0.0",
         "PP10E": "0.0",
         "PP11A": "0.0",
         "PP11B1": "0.0",
         "PP11B2_ANO": 0,
         "PP11B2_DIA": 0,
         "PP11B2_MES": 0,
         "PP11B_COD": "    ",
         "PP11C": "0.0",
         "PP11C99": "0.0",
         "PP11D_COD": "     ",
         "PP11G_ANO": 0,
         "PP11G_DIA": 0,
         "PP11G_MES": 0,
         "PP11L": "0.0",
         "PP11L1": "0.0",
         "PP11M": "0.0",
         "PP11N": "0.0",
         "PP11O": "0.0",
         "PP11P": "0.0",
         "PP11Q": "0.0",
         "PP11R": "0.0",
         "PP11S": "0.0",
         "PP11T": "0.0",
         "PP3E_TOT": 0,
         "PP3F_TOT": 0,
         "RDECCFR": "05",
         "RDECIFR": "07",
         "RDECINDR": "00",
         "RDECOCUR": "  ",
         "REGION": "Patagónica",
         "TOT_P12": 0,
         "TRIMESTRE": "1er. Trimestre",
         "T_VI": 0,
         "V10_M": 0,
         "V11_M": 0,
         "V12_M": 0,
         "V18_M": 0,
         "V19_AM": 0,
         "V21_M": 0,
         "V2_M": 0,
         "V3_M": 0,
         "V4_M": 0,
         "V5_M": 0,
         "V8_M": 0,
         "V9_M": 0,
         "_deepnote_index_column": 42030
        },
        {
         "ADECCFR": "04",
         "ADECIFR": "06",
         "ADECINDR": "00",
         "ADECOCUR": "  ",
         "AGLOMERADO": "Comodoro Rivadavia - Rada Tilly",
         "ANO4": 2004,
         "CAT_INAC": "Estudiante",
         "CAT_OCUP": "0.0",
         "CH03": "Hijo/Hijastro",
         "CH04": "Mujer",
         "CH05": "nan",
         "CH06": "15.0",
         "CH07": "Soltero",
         "CH08": "No paga ni le descuentan",
         "CH09": "Sí",
         "CH10": "Sí, asiste",
         "CH11": "Público",
         "CH12": "Polimodal",
         "CH13": "No",
         "CH14": 0,
         "CH15": "En esta localidad",
         "CH15_COD": "   ",
         "CH16": "En esta localidad",
         "CH16_COD": "   ",
         "CODUSU": "126757  ",
         "COMPONENTE": "4.0",
         "DECCFR": "06",
         "DECIFR": "08",
         "DECINDR": "00",
         "DECOCUR": "  ",
         "ESTADO": "Inactivo",
         "GDECCFR": "  ",
         "GDECIFR": "  ",
         "GDECINDR": "  ",
         "GDECOCUR": "  ",
         "H15": "Sí",
         "IDECCFR": "06",
         "IDECIFR": "08",
         "IDECINDR": "00",
         "IDECOCUR": "  ",
         "IDIMPP": "00000",
         "IMPUTA": "nan",
         "INTENSI": "0.0",
         "IPCF": 280,
         "ITF": 1400,
         "MAS_500": "N",
         "NIVEL_ED": "Secundaria Incompleta",
         "NRO_HOGAR": 1,
         "P21": 0,
         "P47T": 0,
         "PDECCFR": "07",
         "PDECIFR": "09",
         "PDECINDR": "00",
         "PDECOCUR": "  ",
         "PJ1_1": "0.0",
         "PJ2_1": "0.0",
         "PJ3_1": "0.0",
         "PONDERA": 223,
         "PONDIH": "nan",
         "PONDII": "nan",
         "PONDIIO": "nan",
         "PP02C1": "0.0",
         "PP02C2": "0.0",
         "PP02C3": "0.0",
         "PP02C4": "0.0",
         "PP02C5": "0.0",
         "PP02C6": "0.0",
         "PP02C7": "0.0",
         "PP02C8": "0.0",
         "PP02E": "0.0",
         "PP02H": "No",
         "PP02I": "No",
         "PP03C": "0.0",
         "PP03D": 0,
         "PP03G": "0.0",
         "PP03H": "0.0",
         "PP03I": "0.0",
         "PP03J": "0.0",
         "PP04A": "0.0",
         "PP04B1": "0.0",
         "PP04B2": 0,
         "PP04B3_ANO": 0,
         "PP04B3_DIA": 0,
         "PP04B3_MES": 0,
         "PP04B_COD": "    ",
         "PP04C": "0.0",
         "PP04C99": "0.0",
         "PP04D_COD": "     ",
         "PP04G": "0.0",
         "PP05B2_ANO": 0,
         "PP05B2_DIA": 0,
         "PP05B2_MES": 0,
         "PP05C_1": "0.0",
         "PP05C_2": "0.0",
         "PP05C_3": "0.0",
         "PP05E": "0.0",
         "PP05F": "0.0",
         "PP05H": "0.0",
         "PP06A": "0.0",
         "PP06C": 0,
         "PP06D": 0,
         "PP06E": "0.0",
         "PP06H": "0.0",
         "PP07A": "0.0",
         "PP07C": "0.0",
         "PP07D": "0.0",
         "PP07E": "0.0",
         "PP07F1": "0.0",
         "PP07F2": "0.0",
         "PP07F3": "0.0",
         "PP07F4": "0.0",
         "PP07F5": "0.0",
         "PP07G1": "0.0",
         "PP07G2": "0.0",
         "PP07G3": "0.0",
         "PP07G4": "0.0",
         "PP07G_59": "0.0",
         "PP07H": "0.0",
         "PP07I": "0.0",
         "PP07J": "0.0",
         "PP07K": "0.0",
         "PP08D1": 0,
         "PP08D4": 0,
         "PP08F1": 0,
         "PP08F2": 0,
         "PP08J1": 0,
         "PP08J2": 0,
         "PP08J3": 0,
         "PP09A": "0.0",
         "PP09A_ESP": "                                                                                          ",
         "PP09B": "0.0",
         "PP09C": "0.0",
         "PP09C_ESP": "                                                                                          ",
         "PP10A": "0.0",
         "PP10C": "0.0",
         "PP10D": "0.0",
         "PP10E": "0.0",
         "PP11A": "0.0",
         "PP11B1": "0.0",
         "PP11B2_ANO": 0,
         "PP11B2_DIA": 0,
         "PP11B2_MES": 0,
         "PP11B_COD": "    ",
         "PP11C": "0.0",
         "PP11C99": "0.0",
         "PP11D_COD": "     ",
         "PP11G_ANO": 0,
         "PP11G_DIA": 0,
         "PP11G_MES": 0,
         "PP11L": "0.0",
         "PP11L1": "0.0",
         "PP11M": "0.0",
         "PP11N": "0.0",
         "PP11O": "0.0",
         "PP11P": "0.0",
         "PP11Q": "0.0",
         "PP11R": "0.0",
         "PP11S": "0.0",
         "PP11T": "0.0",
         "PP3E_TOT": 0,
         "PP3F_TOT": 0,
         "RDECCFR": "05",
         "RDECIFR": "07",
         "RDECINDR": "00",
         "RDECOCUR": "  ",
         "REGION": "Patagónica",
         "TOT_P12": 0,
         "TRIMESTRE": "1er. Trimestre",
         "T_VI": 0,
         "V10_M": 0,
         "V11_M": 0,
         "V12_M": 0,
         "V18_M": 0,
         "V19_AM": 0,
         "V21_M": 0,
         "V2_M": 0,
         "V3_M": 0,
         "V4_M": 0,
         "V5_M": 0,
         "V8_M": 0,
         "V9_M": 0,
         "_deepnote_index_column": 42031
        },
        {
         "ADECCFR": "04",
         "ADECIFR": "06",
         "ADECINDR": "00",
         "ADECOCUR": "  ",
         "AGLOMERADO": "Comodoro Rivadavia - Rada Tilly",
         "ANO4": 2004,
         "CAT_INAC": "Estudiante",
         "CAT_OCUP": "0.0",
         "CH03": "Hijo/Hijastro",
         "CH04": "Varón",
         "CH05": "nan",
         "CH06": "12.0",
         "CH07": "Soltero",
         "CH08": "No paga ni le descuentan",
         "CH09": "Sí",
         "CH10": "Sí, asiste",
         "CH11": "Público",
         "CH12": "EGB",
         "CH13": "No",
         "CH14": 6,
         "CH15": "En un país limítrofe",
         "CH15_COD": "208",
         "CH16": "En esta localidad",
         "CH16_COD": "   ",
         "CODUSU": "126757  ",
         "COMPONENTE": "5.0",
         "DECCFR": "06",
         "DECIFR": "08",
         "DECINDR": "00",
         "DECOCUR": "  ",
         "ESTADO": "Inactivo",
         "GDECCFR": "  ",
         "GDECIFR": "  ",
         "GDECINDR": "  ",
         "GDECOCUR": "  ",
         "H15": "Sí",
         "IDECCFR": "06",
         "IDECIFR": "08",
         "IDECINDR": "00",
         "IDECOCUR": "  ",
         "IDIMPP": "00000",
         "IMPUTA": "nan",
         "INTENSI": "0.0",
         "IPCF": 280,
         "ITF": 1400,
         "MAS_500": "N",
         "NIVEL_ED": "Primaria Incompleta (incluye educación especial)",
         "NRO_HOGAR": 1,
         "P21": 0,
         "P47T": 0,
         "PDECCFR": "07",
         "PDECIFR": "09",
         "PDECINDR": "00",
         "PDECOCUR": "  ",
         "PJ1_1": "0.0",
         "PJ2_1": "0.0",
         "PJ3_1": "0.0",
         "PONDERA": 223,
         "PONDIH": "nan",
         "PONDII": "nan",
         "PONDIIO": "nan",
         "PP02C1": "0.0",
         "PP02C2": "0.0",
         "PP02C3": "0.0",
         "PP02C4": "0.0",
         "PP02C5": "0.0",
         "PP02C6": "0.0",
         "PP02C7": "0.0",
         "PP02C8": "0.0",
         "PP02E": "0.0",
         "PP02H": "No",
         "PP02I": "No",
         "PP03C": "0.0",
         "PP03D": 0,
         "PP03G": "0.0",
         "PP03H": "0.0",
         "PP03I": "0.0",
         "PP03J": "0.0",
         "PP04A": "0.0",
         "PP04B1": "0.0",
         "PP04B2": 0,
         "PP04B3_ANO": 0,
         "PP04B3_DIA": 0,
         "PP04B3_MES": 0,
         "PP04B_COD": "    ",
         "PP04C": "0.0",
         "PP04C99": "0.0",
         "PP04D_COD": "     ",
         "PP04G": "0.0",
         "PP05B2_ANO": 0,
         "PP05B2_DIA": 0,
         "PP05B2_MES": 0,
         "PP05C_1": "0.0",
         "PP05C_2": "0.0",
         "PP05C_3": "0.0",
         "PP05E": "0.0",
         "PP05F": "0.0",
         "PP05H": "0.0",
         "PP06A": "0.0",
         "PP06C": 0,
         "PP06D": 0,
         "PP06E": "0.0",
         "PP06H": "0.0",
         "PP07A": "0.0",
         "PP07C": "0.0",
         "PP07D": "0.0",
         "PP07E": "0.0",
         "PP07F1": "0.0",
         "PP07F2": "0.0",
         "PP07F3": "0.0",
         "PP07F4": "0.0",
         "PP07F5": "0.0",
         "PP07G1": "0.0",
         "PP07G2": "0.0",
         "PP07G3": "0.0",
         "PP07G4": "0.0",
         "PP07G_59": "0.0",
         "PP07H": "0.0",
         "PP07I": "0.0",
         "PP07J": "0.0",
         "PP07K": "0.0",
         "PP08D1": 0,
         "PP08D4": 0,
         "PP08F1": 0,
         "PP08F2": 0,
         "PP08J1": 0,
         "PP08J2": 0,
         "PP08J3": 0,
         "PP09A": "0.0",
         "PP09A_ESP": "                                                                                          ",
         "PP09B": "0.0",
         "PP09C": "0.0",
         "PP09C_ESP": "                                                                                          ",
         "PP10A": "0.0",
         "PP10C": "0.0",
         "PP10D": "0.0",
         "PP10E": "0.0",
         "PP11A": "0.0",
         "PP11B1": "0.0",
         "PP11B2_ANO": 0,
         "PP11B2_DIA": 0,
         "PP11B2_MES": 0,
         "PP11B_COD": "    ",
         "PP11C": "0.0",
         "PP11C99": "0.0",
         "PP11D_COD": "     ",
         "PP11G_ANO": 0,
         "PP11G_DIA": 0,
         "PP11G_MES": 0,
         "PP11L": "0.0",
         "PP11L1": "0.0",
         "PP11M": "0.0",
         "PP11N": "0.0",
         "PP11O": "0.0",
         "PP11P": "0.0",
         "PP11Q": "0.0",
         "PP11R": "0.0",
         "PP11S": "0.0",
         "PP11T": "0.0",
         "PP3E_TOT": 0,
         "PP3F_TOT": 0,
         "RDECCFR": "05",
         "RDECIFR": "07",
         "RDECINDR": "00",
         "RDECOCUR": "  ",
         "REGION": "Patagónica",
         "TOT_P12": 0,
         "TRIMESTRE": "1er. Trimestre",
         "T_VI": 0,
         "V10_M": 0,
         "V11_M": 0,
         "V12_M": 0,
         "V18_M": 0,
         "V19_AM": 0,
         "V21_M": 0,
         "V2_M": 0,
         "V3_M": 0,
         "V4_M": 0,
         "V5_M": 0,
         "V8_M": 0,
         "V9_M": 0,
         "_deepnote_index_column": 42032
        },
        {
         "ADECCFR": "02",
         "ADECIFR": "01",
         "ADECINDR": "00",
         "ADECOCUR": "  ",
         "AGLOMERADO": "Comodoro Rivadavia - Rada Tilly",
         "ANO4": 2004,
         "CAT_INAC": "Ama de casa",
         "CAT_OCUP": "0.0",
         "CH03": "Jefe",
         "CH04": "Varón",
         "CH05": "nan",
         "CH06": "71.0",
         "CH07": "Casado",
         "CH08": "No paga ni le descuentan",
         "CH09": "Sí",
         "CH10": "No asiste, pero asistió",
         "CH11": "0.0",
         "CH12": "Primario",
         "CH13": "No",
         "CH14": 3,
         "CH15": "En un país limítrofe",
         "CH15_COD": "208",
         "CH16": "En esta localidad",
         "CH16_COD": "   ",
         "CODUSU": "128597  ",
         "COMPONENTE": "1.0",
         "DECCFR": "03",
         "DECIFR": "02",
         "DECINDR": "00",
         "DECOCUR": "  ",
         "ESTADO": "Inactivo",
         "GDECCFR": "  ",
         "GDECIFR": "  ",
         "GDECINDR": "  ",
         "GDECOCUR": "  ",
         "H15": "Sí",
         "IDECCFR": "04",
         "IDECIFR": "02",
         "IDECINDR": "00",
         "IDECOCUR": "  ",
         "IDIMPP": "00000",
         "IMPUTA": "nan",
         "INTENSI": "0.0",
         "IPCF": 150,
         "ITF": 300,
         "MAS_500": "N",
         "NIVEL_ED": "Primaria Incompleta (incluye educación especial)",
         "NRO_HOGAR": 1,
         "P21": 0,
         "P47T": 0,
         "PDECCFR": "04",
         "PDECIFR": "02",
         "PDECINDR": "00",
         "PDECOCUR": "  ",
         "PJ1_1": "0.0",
         "PJ2_1": "0.0",
         "PJ3_1": "0.0",
         "PONDERA": 203,
         "PONDIH": "nan",
         "PONDII": "nan",
         "PONDIIO": "nan",
         "PP02C1": "0.0",
         "PP02C2": "0.0",
         "PP02C3": "0.0",
         "PP02C4": "0.0",
         "PP02C5": "0.0",
         "PP02C6": "0.0",
         "PP02C7": "0.0",
         "PP02C8": "0.0",
         "PP02E": "0.0",
         "PP02H": "No",
         "PP02I": "No",
         "PP03C": "0.0",
         "PP03D": 0,
         "PP03G": "0.0",
         "PP03H": "0.0",
         "PP03I": "0.0",
         "PP03J": "0.0",
         "PP04A": "0.0",
         "PP04B1": "0.0",
         "PP04B2": 0,
         "PP04B3_ANO": 0,
         "PP04B3_DIA": 0,
         "PP04B3_MES": 0,
         "PP04B_COD": "    ",
         "PP04C": "0.0",
         "PP04C99": "0.0",
         "PP04D_COD": "     ",
         "PP04G": "0.0",
         "PP05B2_ANO": 0,
         "PP05B2_DIA": 0,
         "PP05B2_MES": 0,
         "PP05C_1": "0.0",
         "PP05C_2": "0.0",
         "PP05C_3": "0.0",
         "PP05E": "0.0",
         "PP05F": "0.0",
         "PP05H": "0.0",
         "PP06A": "0.0",
         "PP06C": 0,
         "PP06D": 0,
         "PP06E": "0.0",
         "PP06H": "0.0",
         "PP07A": "0.0",
         "PP07C": "0.0",
         "PP07D": "0.0",
         "PP07E": "0.0",
         "PP07F1": "0.0",
         "PP07F2": "0.0",
         "PP07F3": "0.0",
         "PP07F4": "0.0",
         "PP07F5": "0.0",
         "PP07G1": "0.0",
         "PP07G2": "0.0",
         "PP07G3": "0.0",
         "PP07G4": "0.0",
         "PP07G_59": "0.0",
         "PP07H": "0.0",
         "PP07I": "0.0",
         "PP07J": "0.0",
         "PP07K": "0.0",
         "PP08D1": 0,
         "PP08D4": 0,
         "PP08F1": 0,
         "PP08F2": 0,
         "PP08J1": 0,
         "PP08J2": 0,
         "PP08J3": 0,
         "PP09A": "0.0",
         "PP09A_ESP": "                                                                                          ",
         "PP09B": "0.0",
         "PP09C": "0.0",
         "PP09C_ESP": "                                                                                          ",
         "PP10A": "0.0",
         "PP10C": "0.0",
         "PP10D": "0.0",
         "PP10E": "0.0",
         "PP11A": "0.0",
         "PP11B1": "0.0",
         "PP11B2_ANO": 0,
         "PP11B2_DIA": 0,
         "PP11B2_MES": 0,
         "PP11B_COD": "    ",
         "PP11C": "0.0",
         "PP11C99": "0.0",
         "PP11D_COD": "     ",
         "PP11G_ANO": 0,
         "PP11G_DIA": 0,
         "PP11G_MES": 0,
         "PP11L": "0.0",
         "PP11L1": "0.0",
         "PP11M": "0.0",
         "PP11N": "0.0",
         "PP11O": "0.0",
         "PP11P": "0.0",
         "PP11Q": "0.0",
         "PP11R": "0.0",
         "PP11S": "0.0",
         "PP11T": "0.0",
         "PP3E_TOT": 0,
         "PP3F_TOT": 0,
         "RDECCFR": "03",
         "RDECIFR": "01",
         "RDECINDR": "00",
         "RDECOCUR": "  ",
         "REGION": "Patagónica",
         "TOT_P12": 0,
         "TRIMESTRE": "1er. Trimestre",
         "T_VI": 0,
         "V10_M": 0,
         "V11_M": 0,
         "V12_M": 0,
         "V18_M": 0,
         "V19_AM": 0,
         "V21_M": 0,
         "V2_M": 0,
         "V3_M": 0,
         "V4_M": 0,
         "V5_M": 0,
         "V8_M": 0,
         "V9_M": 0,
         "_deepnote_index_column": 42033
        },
        {
         "ADECCFR": "02",
         "ADECIFR": "01",
         "ADECINDR": "02",
         "ADECOCUR": "  ",
         "AGLOMERADO": "Comodoro Rivadavia - Rada Tilly",
         "ANO4": 2004,
         "CAT_INAC": "Jubilado/pensionado",
         "CAT_OCUP": "0.0",
         "CH03": "Cónyuge/Pareja",
         "CH04": "Mujer",
         "CH05": "nan",
         "CH06": "69.0",
         "CH07": "Casado",
         "CH08": "No paga ni le descuentan",
         "CH09": "Sí",
         "CH10": "No asiste, pero asistió",
         "CH11": "0.0",
         "CH12": "Primario",
         "CH13": "No",
         "CH14": 6,
         "CH15": "En un país limítrofe",
         "CH15_COD": "208",
         "CH16": "En esta localidad",
         "CH16_COD": "   ",
         "CODUSU": "128597  ",
         "COMPONENTE": "2.0",
         "DECCFR": "03",
         "DECIFR": "02",
         "DECINDR": "04",
         "DECOCUR": "  ",
         "ESTADO": "Inactivo",
         "GDECCFR": "  ",
         "GDECIFR": "  ",
         "GDECINDR": "  ",
         "GDECOCUR": "  ",
         "H15": "Sí",
         "IDECCFR": "04",
         "IDECIFR": "02",
         "IDECINDR": "04",
         "IDECOCUR": "  ",
         "IDIMPP": "00000",
         "IMPUTA": "nan",
         "INTENSI": "0.0",
         "IPCF": 150,
         "ITF": 300,
         "MAS_500": "N",
         "NIVEL_ED": "Primaria Incompleta (incluye educación especial)",
         "NRO_HOGAR": 1,
         "P21": 0,
         "P47T": 300,
         "PDECCFR": "04",
         "PDECIFR": "02",
         "PDECINDR": "04",
         "PDECOCUR": "  ",
         "PJ1_1": "0.0",
         "PJ2_1": "0.0",
         "PJ3_1": "0.0",
         "PONDERA": 203,
         "PONDIH": "nan",
         "PONDII": "nan",
         "PONDIIO": "nan",
         "PP02C1": "0.0",
         "PP02C2": "0.0",
         "PP02C3": "0.0",
         "PP02C4": "0.0",
         "PP02C5": "0.0",
         "PP02C6": "0.0",
         "PP02C7": "0.0",
         "PP02C8": "0.0",
         "PP02E": "0.0",
         "PP02H": "No",
         "PP02I": "No",
         "PP03C": "0.0",
         "PP03D": 0,
         "PP03G": "0.0",
         "PP03H": "0.0",
         "PP03I": "0.0",
         "PP03J": "0.0",
         "PP04A": "0.0",
         "PP04B1": "0.0",
         "PP04B2": 0,
         "PP04B3_ANO": 0,
         "PP04B3_DIA": 0,
         "PP04B3_MES": 0,
         "PP04B_COD": "    ",
         "PP04C": "0.0",
         "PP04C99": "0.0",
         "PP04D_COD": "     ",
         "PP04G": "0.0",
         "PP05B2_ANO": 0,
         "PP05B2_DIA": 0,
         "PP05B2_MES": 0,
         "PP05C_1": "0.0",
         "PP05C_2": "0.0",
         "PP05C_3": "0.0",
         "PP05E": "0.0",
         "PP05F": "0.0",
         "PP05H": "0.0",
         "PP06A": "0.0",
         "PP06C": 0,
         "PP06D": 0,
         "PP06E": "0.0",
         "PP06H": "0.0",
         "PP07A": "0.0",
         "PP07C": "0.0",
         "PP07D": "0.0",
         "PP07E": "0.0",
         "PP07F1": "0.0",
         "PP07F2": "0.0",
         "PP07F3": "0.0",
         "PP07F4": "0.0",
         "PP07F5": "0.0",
         "PP07G1": "0.0",
         "PP07G2": "0.0",
         "PP07G3": "0.0",
         "PP07G4": "0.0",
         "PP07G_59": "0.0",
         "PP07H": "0.0",
         "PP07I": "0.0",
         "PP07J": "0.0",
         "PP07K": "0.0",
         "PP08D1": 0,
         "PP08D4": 0,
         "PP08F1": 0,
         "PP08F2": 0,
         "PP08J1": 0,
         "PP08J2": 0,
         "PP08J3": 0,
         "PP09A": "0.0",
         "PP09A_ESP": "                                                                                          ",
         "PP09B": "0.0",
         "PP09C": "0.0",
         "PP09C_ESP": "                                                                                          ",
         "PP10A": "0.0",
         "PP10C": "0.0",
         "PP10D": "0.0",
         "PP10E": "0.0",
         "PP11A": "0.0",
         "PP11B1": "0.0",
         "PP11B2_ANO": 0,
         "PP11B2_DIA": 0,
         "PP11B2_MES": 0,
         "PP11B_COD": "    ",
         "PP11C": "0.0",
         "PP11C99": "0.0",
         "PP11D_COD": "     ",
         "PP11G_ANO": 0,
         "PP11G_DIA": 0,
         "PP11G_MES": 0,
         "PP11L": "0.0",
         "PP11L1": "0.0",
         "PP11M": "0.0",
         "PP11N": "0.0",
         "PP11O": "0.0",
         "PP11P": "0.0",
         "PP11Q": "0.0",
         "PP11R": "0.0",
         "PP11S": "0.0",
         "PP11T": "0.0",
         "PP3E_TOT": 0,
         "PP3F_TOT": 0,
         "RDECCFR": "03",
         "RDECIFR": "01",
         "RDECINDR": "02",
         "RDECOCUR": "  ",
         "REGION": "Patagónica",
         "TOT_P12": 0,
         "TRIMESTRE": "1er. Trimestre",
         "T_VI": 300,
         "V10_M": 0,
         "V11_M": 0,
         "V12_M": 0,
         "V18_M": 0,
         "V19_AM": 0,
         "V21_M": 0,
         "V2_M": 300,
         "V3_M": 0,
         "V4_M": 0,
         "V5_M": 0,
         "V8_M": 0,
         "V9_M": 0,
         "_deepnote_index_column": 42034
        }
       ],
       "type": "dataframe"
      },
      "text/html": [
       "<div>\n",
       "<style scoped>\n",
       "    .dataframe tbody tr th:only-of-type {\n",
       "        vertical-align: middle;\n",
       "    }\n",
       "\n",
       "    .dataframe tbody tr th {\n",
       "        vertical-align: top;\n",
       "    }\n",
       "\n",
       "    .dataframe thead th {\n",
       "        text-align: right;\n",
       "    }\n",
       "</style>\n",
       "<table border=\"1\" class=\"dataframe\">\n",
       "  <thead>\n",
       "    <tr style=\"text-align: right;\">\n",
       "      <th></th>\n",
       "      <th>CODUSU</th>\n",
       "      <th>NRO_HOGAR</th>\n",
       "      <th>COMPONENTE</th>\n",
       "      <th>H15</th>\n",
       "      <th>ANO4</th>\n",
       "      <th>TRIMESTRE</th>\n",
       "      <th>REGION</th>\n",
       "      <th>MAS_500</th>\n",
       "      <th>AGLOMERADO</th>\n",
       "      <th>PONDERA</th>\n",
       "      <th>...</th>\n",
       "      <th>ADECCFR</th>\n",
       "      <th>PJ1_1</th>\n",
       "      <th>PJ2_1</th>\n",
       "      <th>PJ3_1</th>\n",
       "      <th>IDIMPP</th>\n",
       "      <th>CH05</th>\n",
       "      <th>IMPUTA</th>\n",
       "      <th>PONDIIO</th>\n",
       "      <th>PONDII</th>\n",
       "      <th>PONDIH</th>\n",
       "    </tr>\n",
       "  </thead>\n",
       "  <tbody>\n",
       "    <tr>\n",
       "      <th>42025</th>\n",
       "      <td>125122</td>\n",
       "      <td>1.0</td>\n",
       "      <td>1.0</td>\n",
       "      <td>Sí</td>\n",
       "      <td>2004.0</td>\n",
       "      <td>1er. Trimestre</td>\n",
       "      <td>Patagónica</td>\n",
       "      <td>N</td>\n",
       "      <td>Comodoro Rivadavia - Rada Tilly</td>\n",
       "      <td>150.0</td>\n",
       "      <td>...</td>\n",
       "      <td>09</td>\n",
       "      <td>0.0</td>\n",
       "      <td>0.0</td>\n",
       "      <td>0.0</td>\n",
       "      <td>00000</td>\n",
       "      <td>NaN</td>\n",
       "      <td>NaN</td>\n",
       "      <td>NaN</td>\n",
       "      <td>NaN</td>\n",
       "      <td>NaN</td>\n",
       "    </tr>\n",
       "    <tr>\n",
       "      <th>42026</th>\n",
       "      <td>125969</td>\n",
       "      <td>1.0</td>\n",
       "      <td>1.0</td>\n",
       "      <td>Sí</td>\n",
       "      <td>2004.0</td>\n",
       "      <td>1er. Trimestre</td>\n",
       "      <td>Patagónica</td>\n",
       "      <td>N</td>\n",
       "      <td>Comodoro Rivadavia - Rada Tilly</td>\n",
       "      <td>120.0</td>\n",
       "      <td>...</td>\n",
       "      <td>07</td>\n",
       "      <td>0.0</td>\n",
       "      <td>0.0</td>\n",
       "      <td>0.0</td>\n",
       "      <td>00000</td>\n",
       "      <td>NaN</td>\n",
       "      <td>NaN</td>\n",
       "      <td>NaN</td>\n",
       "      <td>NaN</td>\n",
       "      <td>NaN</td>\n",
       "    </tr>\n",
       "    <tr>\n",
       "      <th>42027</th>\n",
       "      <td>125969</td>\n",
       "      <td>1.0</td>\n",
       "      <td>2.0</td>\n",
       "      <td>Sí</td>\n",
       "      <td>2004.0</td>\n",
       "      <td>1er. Trimestre</td>\n",
       "      <td>Patagónica</td>\n",
       "      <td>N</td>\n",
       "      <td>Comodoro Rivadavia - Rada Tilly</td>\n",
       "      <td>120.0</td>\n",
       "      <td>...</td>\n",
       "      <td>07</td>\n",
       "      <td>0.0</td>\n",
       "      <td>0.0</td>\n",
       "      <td>0.0</td>\n",
       "      <td>00000</td>\n",
       "      <td>NaN</td>\n",
       "      <td>NaN</td>\n",
       "      <td>NaN</td>\n",
       "      <td>NaN</td>\n",
       "      <td>NaN</td>\n",
       "    </tr>\n",
       "    <tr>\n",
       "      <th>42028</th>\n",
       "      <td>126757</td>\n",
       "      <td>1.0</td>\n",
       "      <td>1.0</td>\n",
       "      <td>Sí</td>\n",
       "      <td>2004.0</td>\n",
       "      <td>1er. Trimestre</td>\n",
       "      <td>Patagónica</td>\n",
       "      <td>N</td>\n",
       "      <td>Comodoro Rivadavia - Rada Tilly</td>\n",
       "      <td>223.0</td>\n",
       "      <td>...</td>\n",
       "      <td>04</td>\n",
       "      <td>0.0</td>\n",
       "      <td>0.0</td>\n",
       "      <td>0.0</td>\n",
       "      <td>00000</td>\n",
       "      <td>NaN</td>\n",
       "      <td>NaN</td>\n",
       "      <td>NaN</td>\n",
       "      <td>NaN</td>\n",
       "      <td>NaN</td>\n",
       "    </tr>\n",
       "    <tr>\n",
       "      <th>42029</th>\n",
       "      <td>126757</td>\n",
       "      <td>1.0</td>\n",
       "      <td>2.0</td>\n",
       "      <td>Sí</td>\n",
       "      <td>2004.0</td>\n",
       "      <td>1er. Trimestre</td>\n",
       "      <td>Patagónica</td>\n",
       "      <td>N</td>\n",
       "      <td>Comodoro Rivadavia - Rada Tilly</td>\n",
       "      <td>223.0</td>\n",
       "      <td>...</td>\n",
       "      <td>04</td>\n",
       "      <td>0.0</td>\n",
       "      <td>0.0</td>\n",
       "      <td>0.0</td>\n",
       "      <td>00000</td>\n",
       "      <td>NaN</td>\n",
       "      <td>NaN</td>\n",
       "      <td>NaN</td>\n",
       "      <td>NaN</td>\n",
       "      <td>NaN</td>\n",
       "    </tr>\n",
       "    <tr>\n",
       "      <th>...</th>\n",
       "      <td>...</td>\n",
       "      <td>...</td>\n",
       "      <td>...</td>\n",
       "      <td>...</td>\n",
       "      <td>...</td>\n",
       "      <td>...</td>\n",
       "      <td>...</td>\n",
       "      <td>...</td>\n",
       "      <td>...</td>\n",
       "      <td>...</td>\n",
       "      <td>...</td>\n",
       "      <td>...</td>\n",
       "      <td>...</td>\n",
       "      <td>...</td>\n",
       "      <td>...</td>\n",
       "      <td>...</td>\n",
       "      <td>...</td>\n",
       "      <td>...</td>\n",
       "      <td>...</td>\n",
       "      <td>...</td>\n",
       "      <td>...</td>\n",
       "    </tr>\n",
       "    <tr>\n",
       "      <th>46028</th>\n",
       "      <td>TQRMNOQWXHJMKOCDEOHCH00803080</td>\n",
       "      <td>1.0</td>\n",
       "      <td>1</td>\n",
       "      <td>1</td>\n",
       "      <td>2024.0</td>\n",
       "      <td>1</td>\n",
       "      <td>Patagónica</td>\n",
       "      <td>N</td>\n",
       "      <td>91</td>\n",
       "      <td>128.0</td>\n",
       "      <td>...</td>\n",
       "      <td>7</td>\n",
       "      <td>NaN</td>\n",
       "      <td>NaN</td>\n",
       "      <td>NaN</td>\n",
       "      <td>NaN</td>\n",
       "      <td>1988-03-29 00:00:00</td>\n",
       "      <td>NaN</td>\n",
       "      <td>130.0</td>\n",
       "      <td>129.0</td>\n",
       "      <td>126.0</td>\n",
       "    </tr>\n",
       "    <tr>\n",
       "      <th>46029</th>\n",
       "      <td>TQRMNOQWXHJMKOCDEOHCH00803080</td>\n",
       "      <td>1.0</td>\n",
       "      <td>2</td>\n",
       "      <td>1</td>\n",
       "      <td>2024.0</td>\n",
       "      <td>1</td>\n",
       "      <td>Patagónica</td>\n",
       "      <td>N</td>\n",
       "      <td>91</td>\n",
       "      <td>128.0</td>\n",
       "      <td>...</td>\n",
       "      <td>7</td>\n",
       "      <td>NaN</td>\n",
       "      <td>NaN</td>\n",
       "      <td>NaN</td>\n",
       "      <td>NaN</td>\n",
       "      <td>2010-03-10 00:00:00</td>\n",
       "      <td>NaN</td>\n",
       "      <td>128.0</td>\n",
       "      <td>128.0</td>\n",
       "      <td>126.0</td>\n",
       "    </tr>\n",
       "    <tr>\n",
       "      <th>46030</th>\n",
       "      <td>TQRMNOQWXHJMKOCDEOHCH00803080</td>\n",
       "      <td>1.0</td>\n",
       "      <td>3</td>\n",
       "      <td>1</td>\n",
       "      <td>2024.0</td>\n",
       "      <td>1</td>\n",
       "      <td>Patagónica</td>\n",
       "      <td>N</td>\n",
       "      <td>91</td>\n",
       "      <td>128.0</td>\n",
       "      <td>...</td>\n",
       "      <td>7</td>\n",
       "      <td>NaN</td>\n",
       "      <td>NaN</td>\n",
       "      <td>NaN</td>\n",
       "      <td>NaN</td>\n",
       "      <td>2012-12-01 00:00:00</td>\n",
       "      <td>NaN</td>\n",
       "      <td>128.0</td>\n",
       "      <td>128.0</td>\n",
       "      <td>126.0</td>\n",
       "    </tr>\n",
       "    <tr>\n",
       "      <th>46031</th>\n",
       "      <td>TQRMNOQXQHJMKOCDEOHCH00794205</td>\n",
       "      <td>1.0</td>\n",
       "      <td>1</td>\n",
       "      <td>1</td>\n",
       "      <td>2024.0</td>\n",
       "      <td>1</td>\n",
       "      <td>Patagónica</td>\n",
       "      <td>N</td>\n",
       "      <td>91</td>\n",
       "      <td>131.0</td>\n",
       "      <td>...</td>\n",
       "      <td>4</td>\n",
       "      <td>NaN</td>\n",
       "      <td>NaN</td>\n",
       "      <td>NaN</td>\n",
       "      <td>NaN</td>\n",
       "      <td>1995-03-03 00:00:00</td>\n",
       "      <td>NaN</td>\n",
       "      <td>133.0</td>\n",
       "      <td>133.0</td>\n",
       "      <td>135.0</td>\n",
       "    </tr>\n",
       "    <tr>\n",
       "      <th>46032</th>\n",
       "      <td>TQRMNOQXQHJMKOCDEOHCH00794205</td>\n",
       "      <td>1.0</td>\n",
       "      <td>2</td>\n",
       "      <td>1</td>\n",
       "      <td>2024.0</td>\n",
       "      <td>1</td>\n",
       "      <td>Patagónica</td>\n",
       "      <td>N</td>\n",
       "      <td>91</td>\n",
       "      <td>131.0</td>\n",
       "      <td>...</td>\n",
       "      <td>4</td>\n",
       "      <td>NaN</td>\n",
       "      <td>NaN</td>\n",
       "      <td>NaN</td>\n",
       "      <td>NaN</td>\n",
       "      <td>1991-03-12 00:00:00</td>\n",
       "      <td>NaN</td>\n",
       "      <td>136.0</td>\n",
       "      <td>134.0</td>\n",
       "      <td>135.0</td>\n",
       "    </tr>\n",
       "  </tbody>\n",
       "</table>\n",
       "<p>8791 rows × 181 columns</p>\n",
       "</div>"
      ],
      "text/plain": [
       "                              CODUSU  NRO_HOGAR COMPONENTE H15    ANO4  \\\n",
       "42025                       125122          1.0        1.0  Sí  2004.0   \n",
       "42026                       125969          1.0        1.0  Sí  2004.0   \n",
       "42027                       125969          1.0        2.0  Sí  2004.0   \n",
       "42028                       126757          1.0        1.0  Sí  2004.0   \n",
       "42029                       126757          1.0        2.0  Sí  2004.0   \n",
       "...                              ...        ...        ...  ..     ...   \n",
       "46028  TQRMNOQWXHJMKOCDEOHCH00803080        1.0          1   1  2024.0   \n",
       "46029  TQRMNOQWXHJMKOCDEOHCH00803080        1.0          2   1  2024.0   \n",
       "46030  TQRMNOQWXHJMKOCDEOHCH00803080        1.0          3   1  2024.0   \n",
       "46031  TQRMNOQXQHJMKOCDEOHCH00794205        1.0          1   1  2024.0   \n",
       "46032  TQRMNOQXQHJMKOCDEOHCH00794205        1.0          2   1  2024.0   \n",
       "\n",
       "            TRIMESTRE      REGION MAS_500                       AGLOMERADO  \\\n",
       "42025  1er. Trimestre  Patagónica       N  Comodoro Rivadavia - Rada Tilly   \n",
       "42026  1er. Trimestre  Patagónica       N  Comodoro Rivadavia - Rada Tilly   \n",
       "42027  1er. Trimestre  Patagónica       N  Comodoro Rivadavia - Rada Tilly   \n",
       "42028  1er. Trimestre  Patagónica       N  Comodoro Rivadavia - Rada Tilly   \n",
       "42029  1er. Trimestre  Patagónica       N  Comodoro Rivadavia - Rada Tilly   \n",
       "...               ...         ...     ...                              ...   \n",
       "46028               1  Patagónica       N                               91   \n",
       "46029               1  Patagónica       N                               91   \n",
       "46030               1  Patagónica       N                               91   \n",
       "46031               1  Patagónica       N                               91   \n",
       "46032               1  Patagónica       N                               91   \n",
       "\n",
       "       PONDERA  ... ADECCFR PJ1_1 PJ2_1 PJ3_1 IDIMPP                 CH05  \\\n",
       "42025    150.0  ...      09   0.0   0.0   0.0  00000                  NaN   \n",
       "42026    120.0  ...      07   0.0   0.0   0.0  00000                  NaN   \n",
       "42027    120.0  ...      07   0.0   0.0   0.0  00000                  NaN   \n",
       "42028    223.0  ...      04   0.0   0.0   0.0  00000                  NaN   \n",
       "42029    223.0  ...      04   0.0   0.0   0.0  00000                  NaN   \n",
       "...        ...  ...     ...   ...   ...   ...    ...                  ...   \n",
       "46028    128.0  ...       7   NaN   NaN   NaN    NaN  1988-03-29 00:00:00   \n",
       "46029    128.0  ...       7   NaN   NaN   NaN    NaN  2010-03-10 00:00:00   \n",
       "46030    128.0  ...       7   NaN   NaN   NaN    NaN  2012-12-01 00:00:00   \n",
       "46031    131.0  ...       4   NaN   NaN   NaN    NaN  1995-03-03 00:00:00   \n",
       "46032    131.0  ...       4   NaN   NaN   NaN    NaN  1991-03-12 00:00:00   \n",
       "\n",
       "      IMPUTA PONDIIO PONDII PONDIH  \n",
       "42025    NaN     NaN    NaN    NaN  \n",
       "42026    NaN     NaN    NaN    NaN  \n",
       "42027    NaN     NaN    NaN    NaN  \n",
       "42028    NaN     NaN    NaN    NaN  \n",
       "42029    NaN     NaN    NaN    NaN  \n",
       "...      ...     ...    ...    ...  \n",
       "46028    NaN   130.0  129.0  126.0  \n",
       "46029    NaN   128.0  128.0  126.0  \n",
       "46030    NaN   128.0  128.0  126.0  \n",
       "46031    NaN   133.0  133.0  135.0  \n",
       "46032    NaN   136.0  134.0  135.0  \n",
       "\n",
       "[8791 rows x 181 columns]"
      ]
     },
     "execution_count": 148,
     "metadata": {},
     "output_type": "execute_result"
    }
   ],
   "source": [
    "\n",
    "df_04 = pd.read_stata('usu_individual_T104.dta')\n",
    "df_24 = pd.read_excel('usu_individual_T124.xlsx')\n",
    "\n",
    "t_df_04 = df_04[df_04['region'] == 'Patagónica']\n",
    "t_df_24 = df_24[df_24['REGION'] == 44] \n",
    "\n",
    "t_df_04.columns = t_df_04.columns.str.upper()\n",
    "t_df_24.columns = t_df_24.columns.str.upper()\n",
    "\n",
    "\n",
    "df_merged = pd.concat([t_df_04, t_df_24])\n",
    "\n",
    "df_merged['REGION'] = df_merged['REGION'].replace({44: 'Patagónica'})\n",
    "df_merged['ESTADO'] = df_merged['ESTADO'].replace({1: 'Ocupado', 2: 'Desocupado', 3: 'Inactivo', 4: 'Menor de 10 años'})\n",
    "df_merged['CH04'] = df_merged['CH04'].replace({1: 'Varón', 2: 'Mujer'})\n",
    "df_merged['CH12'] = df_merged['CH12'].replace({1: 'Jardín/Preescolar', 2: 'Primario', 3: 'EGB', 4: 'Secundario', 5:'Polimodal', 6:'Terciario', 7:'Universitario', 8:'Posgrado Universitario', 9:'Educación especial (discapacitado)'})\n",
    "df_merged['CH13'] = df_merged['CH13'].replace({1: 'Sí', 2: 'No'})\n",
    "df_merged['CH14'] = df_merged['CH14'].str.strip()\n",
    "df_merged['CH14'] = pd.to_numeric(df_merged['CH14'], errors='coerce')\n",
    "\n",
    "df_merged"
   ]
  },
  {
   "cell_type": "markdown",
   "metadata": {
    "cell_id": "592509a32e964cc7afc7e6bd9956a3d8",
    "deepnote_cell_type": "text-cell-p",
    "formattedRanges": []
   },
   "source": [
    "Crear variable edad2 = edad² //edad = edad?"
   ]
  },
  {
   "cell_type": "markdown",
   "metadata": {
    "cell_id": "0b7fa0cfba144d81bd204b9a1a8653b7",
    "deepnote_cell_type": "text-cell-p",
    "formattedRanges": []
   },
   "source": [
    "Panel A: Histograma de edad"
   ]
  },
  {
   "cell_type": "markdown",
   "metadata": {
    "cell_id": "531b392f3c584250a5ade7cf4a3078ae",
    "deepnote_cell_type": "text-cell-p",
    "formattedRanges": []
   },
   "source": [
    "Panel B: Gráfico de densidad kernel para empleados vs. desempleados"
   ]
  },
  {
   "cell_type": "code",
   "execution_count": 149,
   "metadata": {
    "cell_id": "029027bf1ec24f679464d7930973a16e",
    "deepnote_cell_type": "code",
    "execution_context_id": "d8d32c87-2ede-4f8e-9b6b-fcdd748a4182",
    "execution_millis": 13,
    "execution_start": 1746957175777,
    "source_hash": "acf18e13"
   },
   "outputs": [
    {
     "name": "stderr",
     "output_type": "stream",
     "text": [
      "/tmp/ipykernel_40/436315002.py:6: PerformanceWarning: DataFrame is highly fragmented.  This is usually the result of calling `frame.insert` many times, which has poor performance.  Consider joining all columns at once using pd.concat(axis=1) instead. To get a de-fragmented frame, use `newframe = frame.copy()`\n",
      "  df_merged['EDAD2'] = df_merged['CH06'].apply(lambda x: x**2)\n",
      "/tmp/ipykernel_40/436315002.py:7: PerformanceWarning: DataFrame is highly fragmented.  This is usually the result of calling `frame.insert` many times, which has poor performance.  Consider joining all columns at once using pd.concat(axis=1) instead. To get a de-fragmented frame, use `newframe = frame.copy()`\n",
      "  df_merged['EDAD'] = df_merged['CH06']\n"
     ]
    }
   ],
   "source": [
    "#removing extremes\n",
    "df_merged = df_merged[df_merged['CH06'] != 'Menos de 1 año']\n",
    "df_merged = df_merged[df_merged['CH06'] != '98 y más años']\n",
    "\n",
    "df_merged['CH06'].astype(float)\n",
    "df_merged['EDAD2'] = df_merged['CH06'].apply(lambda x: x**2)\n",
    "df_merged['EDAD'] = df_merged['CH06']"
   ]
  },
  {
   "cell_type": "code",
   "execution_count": 150,
   "metadata": {
    "cell_id": "8d6aef952a714db7b2bd5a090a5e7472",
    "deepnote_cell_type": "code",
    "execution_context_id": "d8d32c87-2ede-4f8e-9b6b-fcdd748a4182",
    "execution_millis": 151,
    "execution_start": 1746957175837,
    "source_hash": "8a9738ae"
   },
   "outputs": [
    {
     "data": {
      "image/png": "[encoded data removed]",
      "text/plain": [
       "<Figure size 1000x600 with 1 Axes>"
      ]
     },
     "metadata": {
      "image/png": {
       "height": 547,
       "width": 850
      }
     },
     "output_type": "display_data"
    }
   ],
   "source": [
    "\n",
    "plt.figure(figsize=(10, 6))\n",
    "plt.hist(df_merged['CH06'].dropna(), bins=30, edgecolor='black', alpha=0.7)\n",
    "plt.title('Distribution of CH06 (Age)')\n",
    "plt.xlabel('Age')\n",
    "plt.ylabel('Frequency')\n",
    "plt.show()"
   ]
  },
  {
   "cell_type": "code",
   "execution_count": 151,
   "metadata": {
    "cell_id": "d1faaecf910941bca47d911729841bb6",
    "deepnote_cell_type": "code",
    "execution_context_id": "d8d32c87-2ede-4f8e-9b6b-fcdd748a4182",
    "execution_millis": 212,
    "execution_start": 1746957176036,
    "source_hash": "fc8345da"
   },
   "outputs": [
    {
     "data": {
      "image/png": "[encoded data removed]",
      "text/plain": [
       "<Figure size 1000x600 with 1 Axes>"
      ]
     },
     "metadata": {
      "image/png": {
       "height": 547,
       "width": 863
      }
     },
     "output_type": "display_data"
    }
   ],
   "source": [
    "\n",
    "df_employed_unemployed = df_merged[df_merged['ESTADO'].isin(['Ocupado', 'Desocupado'])]\n",
    "\n",
    "\n",
    "plt.figure(figsize=(10, 6))\n",
    "sns.kdeplot(df_employed_unemployed[df_employed_unemployed['ESTADO'] == 'Ocupado']['CH06'],\n",
    "            label='Employed (Ocupado)', fill=True, alpha=0.6)\n",
    "sns.kdeplot(df_employed_unemployed[df_employed_unemployed['ESTADO'] == 'Desocupado']['CH06'],\n",
    "            label='Unemployed (Desocupado)', fill=True, alpha=0.6)\n",
    "plt.title('Kernel Density Plot of Age by Employment Status')\n",
    "plt.xlabel('Age')\n",
    "plt.ylabel('Density')\n",
    "plt.legend()\n",
    "plt.show()"
   ]
  },
  {
   "cell_type": "markdown",
   "metadata": {
    "cell_id": "0025c8b2d6504e739ae6700d74a0f8fa",
    "deepnote_cell_type": "text-cell-p",
    "formattedRanges": []
   },
   "source": [
    "Crear la variable educ como años de educación"
   ]
  },
  {
   "cell_type": "markdown",
   "metadata": {
    "cell_id": "218c237937ba44e097c0445ae69cd2b1",
    "deepnote_cell_type": "text-cell-p",
    "formattedRanges": []
   },
   "source": [
    "Utilice las variables CH12, CH13, CH14 para interpretar el nivel educativo"
   ]
  },
  {
   "cell_type": "markdown",
   "metadata": {
    "cell_id": "0974188191a54fcaa69be338bf0d1a72",
    "deepnote_cell_type": "text-cell-p",
    "formattedRanges": []
   },
   "source": [
    "Ejemplo: Si completó “secundaria” (CH12), “sí” en CH13, el año pasado = 6 → educ = 12"
   ]
  },
  {
   "cell_type": "code",
   "execution_count": 152,
   "metadata": {
    "cell_id": "1305e812d75f4749b5deaa6749b97625",
    "deepnote_cell_type": "code",
    "execution_context_id": "d8d32c87-2ede-4f8e-9b6b-fcdd748a4182",
    "execution_millis": 1,
    "execution_start": 1746957176306,
    "source_hash": "4306ffe0"
   },
   "outputs": [],
   "source": [
    "def calculate_years_of_education(row):\n",
    "    # Default value if no education\n",
    "    years = 0\n",
    "    \n",
    "    \n",
    "    level = row['CH12']\n",
    "    completed = row['CH13']\n",
    "    last_year = row['CH14']\n",
    "    \n",
    "    \n",
    "    if pd.isna(level) or level == 0.0:\n",
    "        return 0\n",
    "    \n",
    "    \n",
    "    if isinstance(level, (int, float)):\n",
    "        level = str(level)\n",
    "    \n",
    "    \n",
    "    if level == 'Jardín/Preescolar' or level == '1':\n",
    "        \n",
    "        years = 0\n",
    "        if completed == 'Sí' or completed == '1':\n",
    "            years = 0  \n",
    "    \n",
    "    elif level == 'Primario' or level == '2':\n",
    "        \n",
    "        if completed == 'Sí' or completed == '1':\n",
    "            years = 7\n",
    "        else:\n",
    "           \n",
    "            years = min(int(last_year), 7) if not pd.isna(last_year) and last_year not in [98, 99] else 0\n",
    "    \n",
    "    elif level == 'EGB' or level == '3':\n",
    "        \n",
    "        if completed == 'Sí' or completed == '1':\n",
    "            years = 9\n",
    "        else:\n",
    "           \n",
    "            years = min(int(last_year), 9) if not pd.isna(last_year) and last_year not in [98, 99] else 0\n",
    "    \n",
    "    elif level == 'Secundario' or level == '4':\n",
    "        \n",
    "        if completed == 'Sí' or completed == '1':\n",
    "            years = 12\n",
    "        else:\n",
    "            \n",
    "            years = 7 + min(int(last_year), 5) if not pd.isna(last_year) and last_year not in [98, 99] else 7\n",
    "    \n",
    "    elif level == 'Polimodal' or level == '5':\n",
    "        \n",
    "        if completed == 'Sí' or completed == '1':\n",
    "            years = 12\n",
    "        else:\n",
    "            \n",
    "            last_polimodal = int(last_year) if not pd.isna(last_year) and last_year not in [98, 99] else 0\n",
    "            years = 9 + min(last_polimodal, 3)\n",
    "    \n",
    "    elif level == 'Terciario' or level == '6':\n",
    "        \n",
    "        if completed == 'Sí' or completed == '1':\n",
    "            years = 15  \n",
    "        else:\n",
    "            \n",
    "            tertiary_years = int(last_year) if notel == '8':\n",
    "        \n",
    "        if completed == 'Sí' or completed == '1':\n",
    "            years = 19 \n",
    "        else:\n",
    "            \n",
    "            postgrad_years = int(last_year) if not pd.isna(last_year) and last_year not in [98, 99] else 0\n",
    "            years = 17 + min(postgrad_years, 2) pd.isna(last_year) and last_year not in [98, 99] else 0\n",
    "            years = 12 + min(tertiary_years, 3)\n",
    "    \n",
    "    elif level == 'Universitario' or level == '7':\n",
    "        \n",
    "        if completed == 'Sí' or completed == '1':\n",
    "            years = 17 \n",
    "        else:\n",
    "            \n",
    "            university_years = int(last_year) if not pd.isna(last_year) and last_year not in [98, 99] else 0\n",
    "            years = 12 + min(university_years, 5)\n",
    "    \n",
    "    elif level == 'Posgrado Universitario' or lev\n",
    "    \n",
    "    elif level == 'Educación especial (discapacitado)' or level == '9':\n",
    "    \n",
    "        years = int(last_year) if not pd.isna(last_year) and last_year not in [98, 99] else 0\n",
    "    \n",
    "    return years"
   ]
  },
  {
   "cell_type": "code",
   "execution_count": 153,
   "metadata": {
    "cell_id": "072311eefdc648288edf4d2f4fd833ee",
    "deepnote_cell_type": "code",
    "execution_context_id": "d8d32c87-2ede-4f8e-9b6b-fcdd748a4182",
    "execution_millis": 66,
    "execution_start": 1746957176356,
    "source_hash": "6d591f30"
   },
   "outputs": [
    {
     "name": "stderr",
     "output_type": "stream",
     "text": [
      "/tmp/ipykernel_40/664819721.py:1: PerformanceWarning: DataFrame is highly fragmented.  This is usually the result of calling `frame.insert` many times, which has poor performance.  Consider joining all columns at once using pd.concat(axis=1) instead. To get a de-fragmented frame, use `newframe = frame.copy()`\n",
      "  df_merged['educ'] = df_merged.apply(calculate_years_of_education, axis=1)\n"
     ]
    },
    {
     "data": {
      "application/vnd.deepnote.dataframe.v3+json": {
       "column_count": 4,
       "columns": [
        {
         "dtype": "object",
         "name": "CH12",
         "stats": {
          "categories": [
           {
            "count": 3454,
            "name": "Secundario"
           },
           {
            "count": 2137,
            "name": "Primario"
           },
           {
            "count": 3149,
            "name": "9 others"
           }
          ],
          "nan_count": 0,
          "unique_count": 10
         }
        },
        {
         "dtype": "object",
         "name": "CH13",
         "stats": {
          "categories": [
           {
            "count": 4549,
            "name": "No"
           },
           {
            "count": 3807,
            "name": "Sí"
           },
           {
            "count": 384,
            "name": "2 others"
           }
          ],
          "nan_count": 0,
          "unique_count": 3
         }
        },
        {
         "dtype": "float64",
         "name": "CH14",
         "stats": {
          "histogram": [
           {
            "bin_end": 9.9,
            "bin_start": 0,
            "count": 1781
           },
           {
            "bin_end": 19.8,
            "bin_start": 9.9,
            "count": 0
           },
           {
            "bin_end": 29.700000000000003,
            "bin_start": 19.8,
            "count": 0
           },
           {
            "bin_end": 39.6,
            "bin_start": 29.700000000000003,
            "count": 0
           },
           {
            "bin_end": 49.5,
            "bin_start": 39.6,
            "count": 0
           },
           {
            "bin_end": 59.400000000000006,
            "bin_start": 49.5,
            "count": 0
           },
           {
            "bin_end": 69.3,
            "bin_start": 59.400000000000006,
            "count": 0
           },
           {
            "bin_end": 79.2,
            "bin_start": 69.3,
            "count": 0
           },
           {
            "bin_end": 89.10000000000001,
            "bin_start": 79.2,
            "count": 0
           },
           {
            "bin_end": 99,
            "bin_start": 89.10000000000001,
            "count": 30
           }
          ],
          "max": "99.0",
          "min": "0.0",
          "nan_count": 6929,
          "unique_count": 12
         }
        },
        {
         "dtype": "int64",
         "name": "educ",
         "stats": {
          "histogram": [
           {
            "bin_end": 1.9,
            "bin_start": 0,
            "count": 1595
           },
           {
            "bin_end": 3.8,
            "bin_start": 1.9,
            "count": 192
           },
           {
            "bin_end": 5.699999999999999,
            "bin_start": 3.8,
            "count": 201
           },
           {
            "bin_end": 7.6,
            "bin_start": 5.699999999999999,
            "count": 2464
           },
           {
            "bin_end": 9.5,
            "bin_start": 7.6,
            "count": 338
           },
           {
            "bin_end": 11.399999999999999,
            "bin_start": 9.5,
            "count": 317
           },
           {
            "bin_end": 13.299999999999999,
            "bin_start": 11.399999999999999,
            "count": 2541
           },
           {
            "bin_end": 15.2,
            "bin_start": 13.299999999999999,
            "count": 577
           },
           {
            "bin_end": 17.099999999999998,
            "bin_start": 15.2,
            "count": 481
           },
           {
            "bin_end": 19,
            "bin_start": 17.099999999999998,
            "count": 34
           }
          ],
          "max": "19",
          "min": "0",
          "nan_count": 0,
          "unique_count": 19
         }
        },
        {
         "dtype": "int64",
         "name": "_deepnote_index_column"
        }
       ],
       "row_count": 8740,
       "rows": [
        {
         "CH12": "Secundario",
         "CH13": "No",
         "CH14": 1,
         "_deepnote_index_column": 42025,
         "educ": 8
        },
        {
         "CH12": "Primario",
         "CH13": "Sí",
         "CH14": "nan",
         "_deepnote_index_column": 42026,
         "educ": 7
        },
        {
         "CH12": "Primario",
         "CH13": "Sí",
         "CH14": "nan",
         "_deepnote_index_column": 42027,
         "educ": 7
        },
        {
         "CH12": "Secundario",
         "CH13": "No",
         "CH14": 3,
         "_deepnote_index_column": 42028,
         "educ": 10
        },
        {
         "CH12": "Secundario",
         "CH13": "No",
         "CH14": 2,
         "_deepnote_index_column": 42029,
         "educ": 9
        },
        {
         "CH12": "Polimodal",
         "CH13": "No",
         "CH14": 1,
         "_deepnote_index_column": 42030,
         "educ": 10
        },
        {
         "CH12": "Polimodal",
         "CH13": "No",
         "CH14": 0,
         "_deepnote_index_column": 42031,
         "educ": 9
        },
        {
         "CH12": "EGB",
         "CH13": "No",
         "CH14": 6,
         "_deepnote_index_column": 42032,
         "educ": 6
        },
        {
         "CH12": "Primario",
         "CH13": "No",
         "CH14": 3,
         "_deepnote_index_column": 42033,
         "educ": 3
        },
        {
         "CH12": "Primario",
         "CH13": "No",
         "CH14": 6,
         "_deepnote_index_column": 42034,
         "educ": 6
        }
       ],
       "type": "dataframe"
      },
      "text/html": [
       "<div>\n",
       "<style scoped>\n",
       "    .dataframe tbody tr th:only-of-type {\n",
       "        vertical-align: middle;\n",
       "    }\n",
       "\n",
       "    .dataframe tbody tr th {\n",
       "        vertical-align: top;\n",
       "    }\n",
       "\n",
       "    .dataframe thead th {\n",
       "        text-align: right;\n",
       "    }\n",
       "</style>\n",
       "<table border=\"1\" class=\"dataframe\">\n",
       "  <thead>\n",
       "    <tr style=\"text-align: right;\">\n",
       "      <th></th>\n",
       "      <th>CH12</th>\n",
       "      <th>CH13</th>\n",
       "      <th>CH14</th>\n",
       "      <th>educ</th>\n",
       "    </tr>\n",
       "  </thead>\n",
       "  <tbody>\n",
       "    <tr>\n",
       "      <th>42025</th>\n",
       "      <td>Secundario</td>\n",
       "      <td>No</td>\n",
       "      <td>1.0</td>\n",
       "      <td>8</td>\n",
       "    </tr>\n",
       "    <tr>\n",
       "      <th>42026</th>\n",
       "      <td>Primario</td>\n",
       "      <td>Sí</td>\n",
       "      <td>NaN</td>\n",
       "      <td>7</td>\n",
       "    </tr>\n",
       "    <tr>\n",
       "      <th>42027</th>\n",
       "      <td>Primario</td>\n",
       "      <td>Sí</td>\n",
       "      <td>NaN</td>\n",
       "      <td>7</td>\n",
       "    </tr>\n",
       "    <tr>\n",
       "      <th>42028</th>\n",
       "      <td>Secundario</td>\n",
       "      <td>No</td>\n",
       "      <td>3.0</td>\n",
       "      <td>10</td>\n",
       "    </tr>\n",
       "    <tr>\n",
       "      <th>42029</th>\n",
       "      <td>Secundario</td>\n",
       "      <td>No</td>\n",
       "      <td>2.0</td>\n",
       "      <td>9</td>\n",
       "    </tr>\n",
       "    <tr>\n",
       "      <th>...</th>\n",
       "      <td>...</td>\n",
       "      <td>...</td>\n",
       "      <td>...</td>\n",
       "      <td>...</td>\n",
       "    </tr>\n",
       "    <tr>\n",
       "      <th>46028</th>\n",
       "      <td>Universitario</td>\n",
       "      <td>No</td>\n",
       "      <td>NaN</td>\n",
       "      <td>12</td>\n",
       "    </tr>\n",
       "    <tr>\n",
       "      <th>46029</th>\n",
       "      <td>Secundario</td>\n",
       "      <td>No</td>\n",
       "      <td>NaN</td>\n",
       "      <td>7</td>\n",
       "    </tr>\n",
       "    <tr>\n",
       "      <th>46030</th>\n",
       "      <td>Primario</td>\n",
       "      <td>No</td>\n",
       "      <td>NaN</td>\n",
       "      <td>0</td>\n",
       "    </tr>\n",
       "    <tr>\n",
       "      <th>46031</th>\n",
       "      <td>Terciario</td>\n",
       "      <td>Sí</td>\n",
       "      <td>NaN</td>\n",
       "      <td>15</td>\n",
       "    </tr>\n",
       "    <tr>\n",
       "      <th>46032</th>\n",
       "      <td>Terciario</td>\n",
       "      <td>Sí</td>\n",
       "      <td>NaN</td>\n",
       "      <td>15</td>\n",
       "    </tr>\n",
       "  </tbody>\n",
       "</table>\n",
       "<p>8740 rows × 4 columns</p>\n",
       "</div>"
      ],
      "text/plain": [
       "                CH12 CH13  CH14  educ\n",
       "42025     Secundario   No   1.0     8\n",
       "42026       Primario   Sí   NaN     7\n",
       "42027       Primario   Sí   NaN     7\n",
       "42028     Secundario   No   3.0    10\n",
       "42029     Secundario   No   2.0     9\n",
       "...              ...  ...   ...   ...\n",
       "46028  Universitario   No   NaN    12\n",
       "46029     Secundario   No   NaN     7\n",
       "46030       Primario   No   NaN     0\n",
       "46031      Terciario   Sí   NaN    15\n",
       "46032      Terciario   Sí   NaN    15\n",
       "\n",
       "[8740 rows x 4 columns]"
      ]
     },
     "execution_count": 153,
     "metadata": {},
     "output_type": "execute_result"
    }
   ],
   "source": [
    "df_merged['educ'] = df_merged.apply(calculate_years_of_education, axis=1)\n",
    "df_merged[['CH12', 'CH13', 'CH14', 'educ']]"
   ]
  },
  {
   "cell_type": "markdown",
   "metadata": {
    "cell_id": "e22ae433a7d84a20b4d94f5f61c2c5c0",
    "deepnote_cell_type": "text-cell-p",
    "formattedRanges": []
   },
   "source": [
    "Crear variable salario_semanal = P21 / 40"
   ]
  },
  {
   "cell_type": "markdown",
   "metadata": {
    "cell_id": "3f14e2fa176d4aaeb01c3df53783e63d",
    "deepnote_cell_type": "text-cell-p",
    "formattedRanges": []
   },
   "source": [
    "Límpielo filtrando valores poco realistas"
   ]
  },
  {
   "cell_type": "markdown",
   "metadata": {
    "cell_id": "6876b5c4ccc8428f92511d0abfea01c6",
    "deepnote_cell_type": "text-cell-p",
    "formattedRanges": []
   },
   "source": [
    "Crear estadísticas descriptivas (media, desviación estándar, mínima, p50, máxima)"
   ]
  },
  {
   "cell_type": "code",
   "execution_count": 154,
   "metadata": {
    "cell_id": "2bc4d8440fe64d58aaf1557de698371f",
    "deepnote_cell_type": "code",
    "execution_context_id": "d8d32c87-2ede-4f8e-9b6b-fcdd748a4182",
    "execution_millis": 0,
    "execution_start": 1746957176477,
    "source_hash": "9b902c0e"
   },
   "outputs": [
    {
     "name": "stderr",
     "output_type": "stream",
     "text": [
      "/tmp/ipykernel_40/4144347529.py:2: PerformanceWarning: DataFrame is highly fragmented.  This is usually the result of calling `frame.insert` many times, which has poor performance.  Consider joining all columns at once using pd.concat(axis=1) instead. To get a de-fragmented frame, use `newframe = frame.copy()`\n",
      "  df_merged['salario_semanal'] = df_merged['P21'] / 40\n"
     ]
    },
    {
     "data": {
      "text/plain": [
       "count      3233.000000\n",
       "mean       6809.690094\n",
       "std        9601.973100\n",
       "min           0.500000\n",
       "25%          23.500000\n",
       "50%        5000.000000\n",
       "75%       10000.000000\n",
       "max      250000.000000\n",
       "Name: salario_semanal, dtype: float64"
      ]
     },
     "execution_count": 154,
     "metadata": {},
     "output_type": "execute_result"
    }
   ],
   "source": [
    "\n",
    "df_merged['salario_semanal'] = df_merged['P21'] / 40\n",
    "\n",
    "df_merged = df_merged[(df_merged['salario_semanal'] > 0)] # filter out negative and zero values so only people that earn remain\n",
    "\n",
    "df_merged['salario_semanal'].describe()"
   ]
  },
  {
   "cell_type": "markdown",
   "metadata": {
    "cell_id": "2bcbbfd04201478f994c5aa9a27c9154",
    "deepnote_cell_type": "text-cell-p",
    "formattedRanges": []
   },
   "source": [
    "Crear variable horastrab = total de horas trabajadas"
   ]
  },
  {
   "cell_type": "markdown",
   "metadata": {
    "cell_id": "d44136c736f2437baccbb06ea2abf40c",
    "deepnote_cell_type": "text-cell-p",
    "formattedRanges": []
   },
   "source": [
    "Suma de PP3E_TOT + PP3F_TOT"
   ]
  },
  {
   "cell_type": "markdown",
   "metadata": {
    "cell_id": "31945d24760c45d8a5dfaa614fe2c17d",
    "deepnote_cell_type": "text-cell-p",
    "formattedRanges": []
   },
   "source": [
    "Proporcionar estadísticas descriptivas"
   ]
  },
  {
   "cell_type": "code",
   "execution_count": 162,
   "metadata": {
    "cell_id": "331839f3bc8a4a09a1948b96ed6cc03a",
    "deepnote_cell_type": "code",
    "execution_context_id": "d8d32c87-2ede-4f8e-9b6b-fcdd748a4182",
    "execution_millis": 3,
    "execution_start": 1746957201117,
    "source_hash": "f36e92c2"
   },
   "outputs": [
    {
     "name": "stderr",
     "output_type": "stream",
     "text": [
      "/tmp/ipykernel_40/1070884795.py:1: PerformanceWarning: DataFrame is highly fragmented.  This is usually the result of calling `frame.insert` many times, which has poor performance.  Consider joining all columns at once using pd.concat(axis=1) instead. To get a de-fragmented frame, use `newframe = frame.copy()`\n",
      "  df_merged['horastrab'] = df_merged['PP3E_TOT'] + df_merged['PP3F_TOT']\n"
     ]
    },
    {
     "data": {
      "text/plain": [
       "count    3233.000000\n",
       "mean       37.423755\n",
       "std        19.692637\n",
       "min         0.000000\n",
       "25%        25.000000\n",
       "50%        40.000000\n",
       "75%        48.000000\n",
       "max       126.000000\n",
       "Name: horastrab, dtype: float64"
      ]
     },
     "execution_count": 162,
     "metadata": {},
     "output_type": "execute_result"
    }
   ],
   "source": [
    "df_merged['horastrab'] = df_merged['PP3E_TOT'] + df_merged['PP3F_TOT']\n",
    "df_merged['horastrab'].describe()"
   ]
  },
  {
   "cell_type": "markdown",
   "metadata": {
    "cell_id": "10032c02ef5b4942aaec1cb868b8eb7b",
    "deepnote_cell_type": "text-cell-p",
    "formattedRanges": []
   },
   "source": [
    "Calcular el tamaño del conjunto de datos por región"
   ]
  },
  {
   "cell_type": "markdown",
   "metadata": {
    "cell_id": "48d7026cd5fe4ae2af31e6916a1c0a76",
    "deepnote_cell_type": "text-cell-p",
    "formattedRanges": []
   },
   "source": [
    "Completar la Tabla 1: recuento de observaciones en 2004/2024, valores faltantes, número de variables limpias"
   ]
  },
  {
   "cell_type": "markdown",
   "metadata": {
    "cell_id": "8930a272a4c44f35933c97c3172494d9",
    "deepnote_cell_type": "text-cell-h1",
    "formattedRanges": []
   },
   "source": [
    "# Parte II: Métodos No Supervisados"
   ]
  },
  {
   "cell_type": "markdown",
   "metadata": {
    "cell_id": "f65927af229a4b4bae3fafcd482167fb",
    "deepnote_cell_type": "text-cell-p",
    "formattedRanges": []
   },
   "source": [
    "\r\n",
    "Crear matriz de correlación con:"
   ]
  },
  {
   "cell_type": "markdown",
   "metadata": {
    "cell_id": "908277e173d2472b977aa3549af84a33",
    "deepnote_cell_type": "text-cell-p",
    "formattedRanges": []
   },
   "source": [
    "edad, edad2, educ, salario_semanal, horastrab"
   ]
  },
  {
   "cell_type": "code",
   "execution_count": 165,
   "metadata": {
    "cell_id": "c5287ca31f214807a2d799d8eec2bc6f",
    "deepnote_cell_type": "code",
    "execution_context_id": "d8d32c87-2ede-4f8e-9b6b-fcdd748a4182",
    "execution_millis": 286,
    "execution_start": 1746957205981,
    "source_hash": "725ea270"
   },
   "outputs": [
    {
     "data": {
      "image/png": "[encoded data removed]",
      "text/plain": [
       "<Figure size 1000x800 with 2 Axes>"
      ]
     },
     "metadata": {
      "image/png": {
       "height": 790,
       "width": 915
      }
     },
     "output_type": "display_data"
    }
   ],
   "source": [
    "\n",
    "variables = ['EDAD', 'EDAD2', 'educ', 'salario_semanal', 'horastrab']\n",
    "correlation_matrix = df_merged[variables].corr()\n",
    "\n",
    "\n",
    "plt.figure(figsize=(10, 8))\n",
    "sns.heatmap(correlation_matrix, annot=True, cmap='coolwarm', fmt='.2f', linewidths=0.5)\n",
    "plt.title('Correlation Matrix of Selected Variables', fontsize=16)\n",
    "plt.tight_layout()\n",
    "plt.show()"
   ]
  },
  {
   "cell_type": "markdown",
   "metadata": {
    "cell_id": "15ee9ee139b243f28cae6af35892d2d5",
    "deepnote_cell_type": "text-cell-p",
    "formattedRanges": []
   },
   "source": [
    "Aplicar PCA a las 5 variables"
   ]
  },
  {
   "cell_type": "markdown",
   "metadata": {
    "cell_id": "7dd5a2179d6f4331a67ccc80c49e98c9",
    "deepnote_cell_type": "text-cell-p",
    "formattedRanges": []
   },
   "source": [
    "Estandarizarlas primero"
   ]
  },
  {
   "cell_type": "markdown",
   "metadata": {
    "cell_id": "5e2511c8588446ed8eca518fd0c12d64",
    "deepnote_cell_type": "text-cell-p",
    "formattedRanges": []
   },
   "source": [
    "Mostrar el primer y segundo componente"
   ]
  },
  {
   "cell_type": "code",
   "execution_count": 168,
   "metadata": {
    "cell_id": "35c9038b27624a8cbf4d72268211430a",
    "deepnote_cell_type": "code",
    "execution_context_id": "d8d32c87-2ede-4f8e-9b6b-fcdd748a4182",
    "execution_millis": 1,
    "execution_start": 1746957288157,
    "source_hash": "822b9bb5"
   },
   "outputs": [
    {
     "name": "stdout",
     "output_type": "stream",
     "text": [
      "\n",
      "Component loadings (variable contributions):\n",
      "                      PC1       PC2\n",
      "EDAD             0.685813  0.033926\n",
      "EDAD2            0.687339  0.017262\n",
      "educ            -0.210222  0.570894\n",
      "salario_semanal  0.113287  0.780569\n",
      "horastrab       -0.014088  0.251680\n"
     ]
    }
   ],
   "source": [
    "\n",
    "X = df_merged[variables].copy()\n",
    "scaler = StandardScaler()\n",
    "X_scaled = scaler.fit_transform(X)\n",
    "\n",
    "\n",
    "pca = PCA()\n",
    "principal_components = pca.fit_transform(X_scaled)\n",
    "\n",
    "\n",
    "pca_df = pd.DataFrame(data=principal_components[:, 0:2], \n",
    "                      columns=['PC1', 'PC2'])\n",
    "\n",
    "\n",
    "print(\"\\nComponent loadings (variable contributions):\")\n",
    "component_loadings = pd.DataFrame(\n",
    "    pca.components_.T,\n",
    "    columns=[f'PC{i+1}' for i in range(pca.n_components_)],\n",
    "    index=variables\n",
    ")\n",
    "print(component_loadings.iloc[:, 0:2])  # Show only first two components"
   ]
  },
  {
   "cell_type": "markdown",
   "metadata": {
    "cell_id": "bce565570d3e45658d0add99fdbbf2b6",
    "deepnote_cell_type": "text-cell-p",
    "formattedRanges": []
   },
   "source": [
    "Cargas gráficas (contribuciones de las variables a los componentes)"
   ]
  },
  {
   "cell_type": "code",
   "execution_count": 186,
   "metadata": {
    "cell_id": "65d901b038e94d3aac8c9f765c908a35",
    "deepnote_cell_type": "code",
    "execution_context_id": "d8d32c87-2ede-4f8e-9b6b-fcdd748a4182",
    "execution_millis": 146,
    "execution_start": 1746957446226,
    "source_hash": "66a2a0c5"
   },
   "outputs": [
    {
     "data": {
      "text/plain": [
       "<Figure size 1000x800 with 0 Axes>"
      ]
     },
     "metadata": {},
     "output_type": "display_data"
    },
    {
     "data": {
      "image/png": "[encoded data removed]",
      "text/plain": [
       "<Figure size 1000x600 with 1 Axes>"
      ]
     },
     "metadata": {
      "image/png": {
       "height": 590,
       "width": 989
      }
     },
     "output_type": "display_data"
    }
   ],
   "source": [
    "plt.figure(figsize=(10, 8))\n",
    "loading_matrix = pd.DataFrame(\n",
    "    pca.components_.T,\n",
    "    columns=[f'PC{i+1}' for i in range(pca.n_components_)],\n",
    "    index=variables\n",
    ")\n",
    "\n",
    "\n",
    "plt.figure(figsize=(10, 6))\n",
    "for i, var in enumerate(variables):\n",
    "    plt.arrow(0, 0, loading_matrix.iloc[i, 0], loading_matrix.iloc[i, 1], \n",
    "              head_width=0.05, head_length=0.05, fc='blue', ec='blue')\n",
    "    plt.text(loading_matrix.iloc[i, 0]*1.15, loading_matrix.iloc[i, 1]*1.15, \n",
    "             var, color='black', ha='center', va='center', fontsize=12)\n",
    "\n",
    "plt.grid(True)\n",
    "plt.axhline(y=0, color='k', linestyle='-', alpha=0.3)\n",
    "plt.axvline(x=0, color='k', linestyle='-', alpha=0.3)\n",
    "plt.xlim(-0.5, 1)\n",
    "plt.ylim(-0.1, 1)\n",
    "plt.xlabel('PC1', fontsize=14)\n",
    "plt.ylabel('PC2', fontsize=14)\n",
    "plt.title('Variable Loadings (Contributions to PC1 and PC2)', fontsize=16)\n",
    "plt.tight_layout()\n",
    "plt.show()"
   ]
  },
  {
   "cell_type": "markdown",
   "metadata": {
    "cell_id": "655de4f8e1a24ff5aa60bf8fec62a968",
    "deepnote_cell_type": "text-cell-p",
    "formattedRanges": []
   },
   "source": [
    "Grafique la proporción de varianza explicada por componente"
   ]
  },
  {
   "cell_type": "code",
   "execution_count": 189,
   "metadata": {
    "cell_id": "184c27a680834808a7da118795987ff7",
    "deepnote_cell_type": "code",
    "execution_context_id": "d8d32c87-2ede-4f8e-9b6b-fcdd748a4182",
    "execution_millis": 233,
    "execution_start": 1746957497287,
    "source_hash": "a30f7dfe"
   },
   "outputs": [
    {
     "data": {
      "image/png": "[encoded data removed]",
      "text/plain": [
       "<Figure size 1200x600 with 2 Axes>"
      ]
     },
     "metadata": {
      "image/png": {
       "height": 590,
       "width": 1189
      }
     },
     "output_type": "display_data"
    }
   ],
   "source": [
    "plt.figure(figsize=(12, 6))\n",
    "\n",
    "\n",
    "plt.subplot(1, 2, 1)\n",
    "plt.bar(range(1, len(explained_variance) + 1), explained_variance, alpha=0.7, color='blue')\n",
    "plt.step(range(1, len(explained_variance) + 1), cumulative_variance, where='mid', color='red', marker='o')\n",
    "plt.axhline(y=0.8, color='k', linestyle='--', alpha=0.3)\n",
    "plt.title('Explained Variance by Component', fontsize=14)\n",
    "plt.xlabel('Principal Component', fontsize=12)\n",
    "plt.ylabel('Proportion of Variance Explained', fontsize=12)\n",
    "plt.xticks(range(1, len(explained_variance) + 1))\n",
    "plt.ylim(0, 1.05)\n",
    "\n",
    "\n",
    "plt.subplot(1, 2, 2)\n",
    "plt.plot(range(1, len(explained_variance) + 1), cumulative_variance, 'o-', linewidth=2, color='red')\n",
    "plt.title('Cumulative Explained Variance', fontsize=14)\n",
    "plt.xlabel('Number of Components', fontsize=12)\n",
    "plt.ylabel('Cumulative Proportion of Variance', fontsize=12)\n",
    "plt.xticks(range(1, len(explained_variance) + 1))\n",
    "plt.axhline(y=0.8, color='k', linestyle='--', alpha=0.3)\n",
    "plt.grid(True)\n",
    "plt.ylim(0, 1.05)\n",
    "\n",
    "plt.tight_layout()\n",
    "plt.show()"
   ]
  },
  {
   "cell_type": "markdown",
   "metadata": {
    "cell_id": "e39c41c6ec9a4913a12e80c2d4c43c8b",
    "deepnote_cell_type": "text-cell-h2",
    "formattedRanges": []
   },
   "source": [
    "## Clustering"
   ]
  },
  {
   "cell_type": "markdown",
   "metadata": {
    "cell_id": "5faca028341b49b4918298469da1d068",
    "deepnote_cell_type": "text-cell-p",
    "formattedRanges": []
   },
   "source": [
    "Algoritmo K-medias:"
   ]
  },
  {
   "cell_type": "markdown",
   "metadata": {
    "cell_id": "5b3f255be81b4de8853143b9c71a6961",
    "deepnote_cell_type": "text-cell-p",
    "formattedRanges": []
   },
   "source": [
    "Run con k = 2, 4, 10 y n_init = 20"
   ]
  },
  {
   "cell_type": "markdown",
   "metadata": {
    "cell_id": "3d2675f176b244d6831fd1d93a007791",
    "deepnote_cell_type": "text-cell-p",
    "formattedRanges": []
   },
   "source": [
    "Graficar los resultados con 2 predictores e interpretarlos\r\n"
   ]
  },
  {
   "cell_type": "code",
   "execution_count": 198,
   "metadata": {
    "cell_id": "e5e6b21e6d7d411796e164680f69ff26",
    "deepnote_cell_type": "code",
    "execution_context_id": "d8d32c87-2ede-4f8e-9b6b-fcdd748a4182",
    "execution_millis": 2326,
    "execution_start": 1746957861809,
    "source_hash": "e0d6e772"
   },
   "outputs": [
    {
     "data": {
      "image/png": "[encoded data removed]",
      "text/plain": [
       "<Figure size 1500x1000 with 3 Axes>"
      ]
     },
     "metadata": {
      "image/png": {
       "height": 989,
       "width": 1489
      }
     },
     "output_type": "display_data"
    }
   ],
   "source": [
    "\n",
    "X = df_merged[variables].copy()\n",
    "scaler = StandardScaler()\n",
    "X_scaled = scaler.fit_transform(X)\n",
    "\n",
    "\n",
    "\n",
    "pca = PCA(n_components=2)\n",
    "X_pca = pca.fit_transform(X_scaled)\n",
    "\n",
    "\n",
    "k_values = [2, 4, 10]\n",
    "\n",
    "\n",
    "plt.figure(figsize=(15, 10))\n",
    "for i, k in enumerate(k_values):\n",
    "    \n",
    "    kmeans = KMeans(n_clusters=k, n_init=20, random_state=42)\n",
    "    labels = kmeans.fit_predict(X_scaled)\n",
    "    \n",
    "    \n",
    "    if k == 2:\n",
    "        kmeans_k2_labels = labels\n",
    "    \n",
    "    \n",
    "    plt.subplot(1, 3, i+1)\n",
    "    plt.scatter(X_pca[:, 0], X_pca[:, 1], c=labels, cmap='viridis', s=50, alpha=0.7)\n",
    "    plt.title(f'K-means Clustering (k={k}, n_init=20)')\n",
    "    plt.xlabel('First Principal Component')\n",
    "    plt.ylabel('Second Principal Component')\n",
    "    plt.grid(alpha=0.3)\n",
    "\n",
    "plt.tight_layout()\n",
    "plt.show()"
   ]
  },
  {
   "cell_type": "markdown",
   "metadata": {
    "cell_id": "0349f193ee9245c196bf6a31a61d2308",
    "deepnote_cell_type": "text-cell-p",
    "formattedRanges": []
   },
   "source": [
    "Representación gráfica de la edad frente a la educación con resultados k = 2"
   ]
  },
  {
   "cell_type": "markdown",
   "metadata": {
    "cell_id": "625cd94f4dca4336a68e197f127458a4",
    "deepnote_cell_type": "text-cell-p",
    "formattedRanges": []
   },
   "source": [
    "Utilice el color para empleados/desempleados"
   ]
  },
  {
   "cell_type": "markdown",
   "metadata": {
    "cell_id": "dc4c0de3c0734758b21cefc2757fe625",
    "deepnote_cell_type": "text-cell-p",
    "formattedRanges": []
   },
   "source": [
    "Evaluar si la agrupación las separó bien"
   ]
  },
  {
   "cell_type": "code",
   "execution_count": 210,
   "metadata": {
    "cell_id": "da54d928b9ab4eb8810d00d2655fc73b",
    "deepnote_cell_type": "code",
    "execution_context_id": "d8d32c87-2ede-4f8e-9b6b-fcdd748a4182",
    "execution_millis": 235,
    "execution_start": 1746957990363,
    "source_hash": "d040417b"
   },
   "outputs": [
    {
     "data": {
      "image/png": "[encoded data removed]",
      "text/plain": [
       "<Figure size 1000x800 with 2 Axes>"
      ]
     },
     "metadata": {
      "image/png": {
       "height": 701,
       "width": 820
      }
     },
     "output_type": "display_data"
    }
   ],
   "source": [
    "\n",
    "plt.figure(figsize=(10, 8))\n",
    "\n",
    "plt.scatter(df_merged['EDAD'], df_merged['educ'], c=kmeans_k2_labels, \n",
    "            cmap='coolwarm', alpha=0.7, s=60)\n",
    "plt.title('Age vs. Education (colored by K-means k=2 clustering)')\n",
    "plt.xlabel('Age (edad)')\n",
    "plt.ylabel('Education (educ)')\n",
    "plt.grid(alpha=0.3)\n",
    "plt.colorbar(label='Cluster')\n",
    "plt.show()"
   ]
  },
  {
   "cell_type": "markdown",
   "metadata": {
    "cell_id": "7407684880d540f1b5abfaf76c1a8bab",
    "deepnote_cell_type": "text-cell-p",
    "formattedRanges": []
   },
   "source": [
    "Agrupamiento jerárquico:"
   ]
  },
  {
   "cell_type": "markdown",
   "metadata": {
    "cell_id": "42f14541cdd74cf98b9bd843b9c0b130",
    "deepnote_cell_type": "text-cell-p",
    "formattedRanges": []
   },
   "source": [
    "Usa las mismas variables"
   ]
  },
  {
   "cell_type": "markdown",
   "metadata": {
    "cell_id": "0522b95e3ef4459680db6a4cb3b53b45",
    "deepnote_cell_type": "text-cell-p",
    "formattedRanges": []
   },
   "source": [
    "Crear e interpretar un dendrograma"
   ]
  },
  {
   "cell_type": "code",
   "execution_count": 213,
   "metadata": {
    "cell_id": "42cad96285c44c3a84fbe207d689632d",
    "deepnote_cell_type": "code",
    "execution_context_id": "d8d32c87-2ede-4f8e-9b6b-fcdd748a4182",
    "execution_millis": 1490,
    "execution_start": 1746958039197,
    "source_hash": "c2f30ba4"
   },
   "outputs": [
    {
     "data": {
      "image/png": "[encoded data removed]",
      "text/plain": [
       "<Figure size 1200x800 with 1 Axes>"
      ]
     },
     "metadata": {
      "image/png": {
       "height": 790,
       "width": 1189
      }
     },
     "output_type": "display_data"
    }
   ],
   "source": [
    "\n",
    "Z = linkage(X_scaled, method='ward')\n",
    "\n",
    "\n",
    "plt.figure(figsize=(12, 8))\n",
    "plt.title('Hierarchical Clustering Dendrogram')\n",
    "plt.xlabel('Sample index')\n",
    "plt.ylabel('Distance')\n",
    "\n",
    "\n",
    "if X_scaled.shape[0] > 100:\n",
    "    dendrogram(\n",
    "        Z,\n",
    "        truncate_mode='lastp',\n",
    "        p=30,\n",
    "        leaf_rotation=90.,\n",
    "        leaf_font_size=12.,\n",
    "        show_contracted=True\n",
    "    )\n",
    "else:\n",
    "    dendrogram(Z)\n",
    "\n",
    "plt.tight_layout()\n",
    "plt.show()"
   ]
  }
 ],
 "metadata": {
  "deepnote_notebook_id": "faffe1e5e50c464f9ac397cf0df199cc",
  "kernelspec": {
   "display_name": "Python [conda env:base] *",
   "language": "python",
   "name": "conda-base-py"
  },
  "language_info": {
   "codemirror_mode": {
    "name": "ipython",
    "version": 3
   },
   "file_extension": ".py",
   "mimetype": "text/x-python",
   "name": "python",
   "nbconvert_exporter": "python",
   "pygments_lexer": "ipython3",
   "version": "3.12.7"
  }
 },
 "nbformat": 4,
 "nbformat_minor": 4
}
